{
 "cells": [
  {
   "attachments": {},
   "cell_type": "markdown",
   "id": "b94f8cd3",
   "metadata": {},
   "source": [
    "# 18.06 Pset 1\n",
    "## Problem 1 [10]\n",
    "Since \n",
    "$$BCDx = \\begin{pmatrix}\n",
    "12 \\\\\n",
    "6 \\\\\n",
    "32 \\\\\n",
    "2\n",
    "\\end{pmatrix}$$\n",
    "we can solve $$By = \\begin{pmatrix}\n",
    "12 \\\\\n",
    "6 \\\\\n",
    "32 \\\\\n",
    "2\n",
    "\\end{pmatrix}$$\n",
    "first.\n",
    "Given that \n",
    "$$\\begin{pmatrix}\n",
    "1 & 3 &  & 1 \\\\\n",
    " & 1 &  & 2 \\\\\n",
    " &  & 1 & 1 \\\\\n",
    " &  &  & 1\n",
    "\\end{pmatrix}y = \\begin{pmatrix}\n",
    "12 \\\\\n",
    "6 \\\\\n",
    "32 \\\\\n",
    "2\n",
    "\\end{pmatrix}$$\n",
    "we can do back-substitution from bottom to top, which yields\n",
    "$$\\begin{pmatrix}\n",
    "1 & 3 &  & 1 \\\\\n",
    " & 1 &  & 2 \\\\\n",
    " &  & 1 & 1 \\\\\n",
    " &  &  & 1\n",
    "\\end{pmatrix}\\begin{pmatrix}\n",
    "4 \\\\\n",
    "2 \\\\\n",
    "30 \\\\ \n",
    "2 \n",
    "\\end{pmatrix} = \\begin{pmatrix}\n",
    "12 \\\\\n",
    "6 \\\\\n",
    "32 \\\\\n",
    "2\n",
    "\\end{pmatrix}$$\n",
    "Keep going, next we are going to solve $Cz = y$, and it is simple.\n",
    "$$\\begin{pmatrix}\n",
    "-1 &  &  &   \\\\\n",
    " & 2 &  &   \\\\\n",
    " &  & -3 &  \\\\\n",
    " &  &  & -2\n",
    "\\end{pmatrix}z = \\begin{pmatrix}\n",
    "4 \\\\\n",
    "2 \\\\\n",
    "30 \\\\ \n",
    "2 \n",
    "\\end{pmatrix}$$\n",
    "yields\n",
    "$$z = \\begin{pmatrix}\n",
    "-4 \\\\\n",
    "1 \\\\\n",
    "-10 \\\\ \n",
    "-1 \n",
    "\\end{pmatrix}$$\n",
    "Last, we solve $Dx = z$, which is \n",
    "$$\\begin{pmatrix}\n",
    " &  &  & 1 \\\\\n",
    " &  & 1 & -1 \\\\\n",
    " & 1 &  & 3 \\\\\n",
    "1 & 1 &  & 1\n",
    "\\end{pmatrix}x = \\begin{pmatrix}\n",
    "-4 \\\\\n",
    "1 \\\\\n",
    "-10 \\\\ \n",
    "-1 \n",
    "\\end{pmatrix}$$\n",
    "Doing back-substitution again - but from top to bottom - yields the solution:\n",
    "$$x = \\begin{pmatrix}\n",
    "1 \\\\\n",
    "2 \\\\\n",
    "-3 \\\\\n",
    "-4\n",
    "\\end{pmatrix}$$"
   ]
  },
  {
   "cell_type": "code",
   "execution_count": 1,
   "id": "e1f43aab",
   "metadata": {},
   "outputs": [
    {
     "data": {
      "text/plain": [
       "true"
      ]
     },
     "execution_count": 1,
     "metadata": {},
     "output_type": "execute_result"
    }
   ],
   "source": [
    "B = [1 3 0 1; 0 1 0 2; 0 0 1 1; 0 0 0 1]\n",
    "C = [-1 0 0 0; 0 2 0 0; 0 0 -3 0; 0 0 0 -2]\n",
    "D = [0 0 0 1; 0 0 1 -1; 0 1 0 3; 1 1 0 1]\n",
    "b = [12, 6, 32, 2]\n",
    "z = [-4, 1, -10, -1]\n",
    "x = [1, 2, -3, -4]\n",
    "B * C * D * x == b"
   ]
  },
  {
   "attachments": {},
   "cell_type": "markdown",
   "id": "150e1a7c",
   "metadata": {},
   "source": [
    "## Problem 2 [15]\n",
    "### (a)\n",
    "$L = \\begin{pmatrix}\n",
    "1 &  &  &  &  \\\\\n",
    "2 & 1 &  &  &  \\\\\n",
    " & 3 & 1 &  &  \\\\\n",
    " &  & -2 & 1 &  \\\\\n",
    " &  &  & -1 & 1\n",
    "\\end{pmatrix},\n",
    "U = \\begin{pmatrix}\n",
    "1 & -1 &  &  &  \\\\\n",
    " & 1 & 1 &  &  \\\\\n",
    " &  & 1 & -2 &  \\\\\n",
    " &  &  & 1 & -2 \\\\\n",
    " &  &  &  & 1\n",
    "\\end{pmatrix}$  \n",
    "$A$ only has non-zero elements lying on main diagonal, one row lower than main diagonal and one row higher than main diagonal.  \n",
    "$L$ only has non-zero elements lying on main diagonal and one row lower than main diagonal; whereas $U$ only has non-zero elements lying on main diagonal and one row higher than main diagonal."
   ]
  },
  {
   "cell_type": "code",
   "execution_count": 2,
   "id": "9aa62329",
   "metadata": {},
   "outputs": [
    {
     "data": {
      "text/plain": [
       "5×5 Matrix{Int64}:\n",
       " 1  -1   0   0   0\n",
       " 2  -1   1   0   0\n",
       " 0   3   4  -2   0\n",
       " 0   0  -2   5  -2\n",
       " 0   0   0  -1   3"
      ]
     },
     "execution_count": 2,
     "metadata": {},
     "output_type": "execute_result"
    }
   ],
   "source": [
    "A = [1 -1 0 0 0 ; 2 -1 1 0 0 ; 0 3 4 -2 0 ; 0 0 -2 5 -2 ; 0 0 0 -1 3]\n",
    "U = [1 -1 0 0 0 ; 0 1 1 0 0 ; 0 0 1 -2 0 ; 0 0 0 1 -2 ; 0 0 0 0 1]\n",
    "L = [ 1 0 0 0 0 ; 2 1 0 0 0 ; 0 3 1 0 0; 0 0 -2 1 0; 0 0 0 -1 1]\n",
    "L * U"
   ]
  },
  {
   "attachments": {},
   "cell_type": "markdown",
   "id": "c1722673",
   "metadata": {},
   "source": [
    "### (b)"
   ]
  },
  {
   "cell_type": "code",
   "execution_count": 3,
   "id": "5163c17c",
   "metadata": {},
   "outputs": [
    {
     "data": {
      "text/plain": [
       "5×5 Tridiagonal{Int64, Vector{Int64}}:\n",
       " 1  -1   ⋅   ⋅   ⋅\n",
       " 2  -1   1   ⋅   ⋅\n",
       " ⋅   3   4  -2   ⋅\n",
       " ⋅   ⋅  -2   5  -2\n",
       " ⋅   ⋅   ⋅  -1   3"
      ]
     },
     "execution_count": 3,
     "metadata": {},
     "output_type": "execute_result"
    }
   ],
   "source": [
    "using LinearAlgebra # load the LinearAlgebra package\n",
    "\n",
    "# almost right:\n",
    "A = Tridiagonal([2, 3, -2, -1], [1, -1, 4, 5, 3], [-1, 1, -2, -2])\n",
    "\n",
    "A"
   ]
  },
  {
   "cell_type": "code",
   "execution_count": 4,
   "id": "623cbf2f",
   "metadata": {},
   "outputs": [
    {
     "data": {
      "text/plain": [
       "LU{Float64, Tridiagonal{Float64, Vector{Float64}}, Vector{Int64}}\n",
       "L factor:\n",
       "5×5 Matrix{Float64}:\n",
       " 1.0  0.0   0.0   0.0  0.0\n",
       " 2.0  1.0   0.0   0.0  0.0\n",
       " 0.0  3.0   1.0   0.0  0.0\n",
       " 0.0  0.0  -2.0   1.0  0.0\n",
       " 0.0  0.0   0.0  -1.0  1.0\n",
       "U factor:\n",
       "5×5 Matrix{Float64}:\n",
       " 1.0  -1.0  0.0   0.0   0.0\n",
       " 0.0   1.0  1.0   0.0   0.0\n",
       " 0.0   0.0  1.0  -2.0   0.0\n",
       " 0.0   0.0  0.0   1.0  -2.0\n",
       " 0.0   0.0  0.0   0.0   1.0"
      ]
     },
     "execution_count": 4,
     "metadata": {},
     "output_type": "execute_result"
    }
   ],
   "source": [
    "lu(A, NoPivot()) # compute the LU factorization, without row swaps (\"pivoting\")"
   ]
  },
  {
   "attachments": {},
   "cell_type": "markdown",
   "id": "9381ba2f",
   "metadata": {},
   "source": [
    "### (c)"
   ]
  },
  {
   "attachments": {},
   "cell_type": "markdown",
   "id": "59cd8eff",
   "metadata": {},
   "source": [
    "10 times.\n",
    "In the elimination, we do two subtracts per row operation and only on adjacent rows, therefore the elimination is only 10 times slower.  \n",
    "After that, $U$ is obtained. As for $L$, you can see the elimination matrices have a pattern of multiplicating: the main diagonal is all $1$ and for the elements lies exactly below the main diagonal, add all matrices up.\n",
    "This yields only finding 49 values, which is approximately also 10 times slower."
   ]
  },
  {
   "attachments": {},
   "cell_type": "markdown",
   "id": "1915c01d",
   "metadata": {},
   "source": [
    "## Problem 3 [10]\n",
    "### (a)\n",
    "We know that\n",
    "$$A = UB^{-1}L \\Rightarrow A^{-1} = L^{-1}U^{-1}$$\n",
    "I am sorry I am not that smart, so I am going to compute $L^{-1}$ and $U^{-1}$ by reversing row/coulmn operations:\n",
    "$$L^{-1} = \\begin{pmatrix}\n",
    "1 &  &    \\\\\n",
    "1 & 1 &    \\\\\n",
    "1 & -1 & 1 \n",
    "\\end{pmatrix},\n",
    "U^{-1} = \\begin{pmatrix}\n",
    "1 & -1 & 3  \\\\\n",
    " & 1 & -2  \\\\\n",
    " &  & 1 \n",
    "\\end{pmatrix}$$\n",
    "Zeroes are left with blank.\n",
    "Therefore \n",
    "$$L^{-1}BU^{-1} = \\begin{pmatrix}\n",
    "1 &  &    \\\\\n",
    "1 & 1 &    \\\\\n",
    "1 & -1 & 1 \n",
    "\\end{pmatrix}\\begin{pmatrix}\n",
    "1 & 2 & 3   \\\\\n",
    "3 & 2 & 1   \\\\\n",
    "1 & 0 & 1 \n",
    "\\end{pmatrix}\\begin{pmatrix}\n",
    "1 & -1 & 3  \\\\\n",
    " & 1 & -2  \\\\\n",
    " &  & 1 \n",
    "\\end{pmatrix} = \\begin{pmatrix}\n",
    "1 & 2 & 3   \\\\\n",
    "4 & 4 & 4   \\\\\n",
    "-1 & 0 & 3 \n",
    "\\end{pmatrix}\\begin{pmatrix}\n",
    "1 & -1 & 3  \\\\\n",
    " & 1 & -2  \\\\\n",
    " &  & 1 \n",
    "\\end{pmatrix}$$\n",
    "The second column of $A^{-1}$ is going to be the combination of the three columns, which is\n",
    "$$\\begin{pmatrix}\n",
    "1 & 2 & 3   \\\\\n",
    "4 & 4 & 4   \\\\\n",
    "-1 & 0 & 3 \n",
    "\\end{pmatrix}\\begin{pmatrix}\n",
    " -1  \\\\\n",
    " 1  \\\\\n",
    " \\ \n",
    "\\end{pmatrix} = \\begin{pmatrix}\n",
    " 1  \\\\\n",
    " 0  \\\\\n",
    " 1\n",
    "\\end{pmatrix}$$\n",
    "### (b)"
   ]
  },
  {
   "cell_type": "code",
   "execution_count": 5,
   "id": "c5fca894",
   "metadata": {},
   "outputs": [
    {
     "data": {
      "text/plain": [
       "3×3 Matrix{Float64}:\n",
       "  1.0   1.0  2.0\n",
       "  4.0  -0.0  8.0\n",
       " -1.0   1.0  0.0"
      ]
     },
     "execution_count": 5,
     "metadata": {},
     "output_type": "execute_result"
    }
   ],
   "source": [
    "# fill these in:\n",
    "U = [1 1 -1 ; 0 1 2 ; 0 0 1]\n",
    "L = [1 0 0 ; -1 1 0 ; -2 1 1]\n",
    "B = [1 2 3 ; 3 2 1 ; 1 0 1]\n",
    "\n",
    "A = U * (B \\ L)  # computes UB⁻¹L\n",
    "A^-1 # computes A⁻¹"
   ]
  },
  {
   "attachments": {},
   "cell_type": "markdown",
   "id": "b987e304",
   "metadata": {},
   "source": [
    "## Problem 4 [10]\n",
    "### (a)\n",
    "The elimination is going to be\n",
    "$$\\begin{pmatrix}\n",
    "1 &  &    \\\\\n",
    "a & 1 &    \\\\\n",
    "b & c & 1 \n",
    "\\end{pmatrix} \\rightarrow \\begin{pmatrix}\n",
    "1 &  &    \\\\\n",
    "0 & 1 &    \\\\\n",
    "0 & 0 & 1 \n",
    "\\end{pmatrix}$$\n",
    "And the elimination matrix is\n",
    "$$\\begin{pmatrix}\n",
    "1 &  &    \\\\\n",
    "0 & 1 &    \\\\\n",
    "0 & -c & 1 \n",
    "\\end{pmatrix}\\begin{pmatrix}\n",
    "1 &  &    \\\\\n",
    "0 & 1 &    \\\\\n",
    "-b & 0 & 1 \n",
    "\\end{pmatrix}\\begin{pmatrix}\n",
    "1 &  &    \\\\\n",
    "-a & 1 &    \\\\\n",
    "0 & 0 & 1 \n",
    "\\end{pmatrix} = \\begin{pmatrix}\n",
    "1 &  &    \\\\\n",
    "0 & 1 &    \\\\\n",
    "0 & -c & 1 \n",
    "\\end{pmatrix}\\begin{pmatrix}\n",
    "1 &  &    \\\\\n",
    "-a & 1 &    \\\\\n",
    "-b & 0 & 1 \n",
    "\\end{pmatrix} = \\begin{pmatrix}\n",
    "1 &  &    \\\\\n",
    "-a & 1 &    \\\\\n",
    "ac-b & -c & 1 \n",
    "\\end{pmatrix}$$"
   ]
  },
  {
   "attachments": {},
   "cell_type": "markdown",
   "id": "6babb3f4",
   "metadata": {},
   "source": [
    "### (b)\n",
    "$$\\begin{pmatrix}\n",
    "1 &  &    \\\\\n",
    "-a & 1 &    \\\\\n",
    "ac-b & -c & 1 \n",
    "\\end{pmatrix}$$"
   ]
  },
  {
   "attachments": {},
   "cell_type": "markdown",
   "id": "27818973",
   "metadata": {},
   "source": [
    "### (c)\n",
    "Since elimination is just some row-operation-matrices, let their multiplication be $E$, after the elimination, we have\n",
    "$$ELB = IB = B$$"
   ]
  },
  {
   "attachments": {},
   "cell_type": "markdown",
   "id": "292e4f45",
   "metadata": {},
   "source": [
    "## Problem 5 [10]\n",
    "### (a)\n",
    "$$C_1 = A_1B_1 + A_2B_3$$\n",
    "### (b)"
   ]
  },
  {
   "cell_type": "code",
   "execution_count": 6,
   "id": "c166d089",
   "metadata": {},
   "outputs": [
    {
     "data": {
      "text/plain": [
       "true"
      ]
     },
     "execution_count": 6,
     "metadata": {},
     "output_type": "execute_result"
    }
   ],
   "source": [
    "# 4 random blocks of A\n",
    "A1, A2, A3, A4 = rand(50,50), rand(50,50), rand(50,50), rand(50,50)\n",
    "\n",
    "# 4 random blocks of B\n",
    "B1, B2, B3, B4 = rand(50,50), rand(50,50), rand(50,50), rand(50,50)\n",
    "\n",
    "# make A and B out of these blocks:\n",
    "A = [A1 A2\n",
    "     A3 A4]\n",
    "B = [B1 B2\n",
    "     B3 B4]\n",
    "\n",
    "# make C = AB\n",
    "C = A*B\n",
    "\n",
    "# extract C₁ from the upper-left 50×50 block of C:\n",
    "C1 = C[1:50, 1:50]\n",
    "\n",
    "# finally, check that C₁ equals (up to roundoff error) your formula from (a):\n",
    "\n",
    "your_C1 = A1 * B1 + A2 * B3       # ← YOUR (a) HERE ...some formula in terms of A1,A2,A3,A4,B1,B2,B3,B4\n",
    "\n",
    "C1 ≈ your_C1    # should print \"true\""
   ]
  },
  {
   "attachments": {},
   "cell_type": "markdown",
   "id": "4f17db8f",
   "metadata": {},
   "source": [
    "## Problem 6 [12]\n",
    "### (a)\n",
    "We subtract 3 times first column from the third column.\n",
    "### (b)\n",
    "**Right**.\n",
    "### (c)\n",
    "$$A\\begin{pmatrix}\n",
    "1 & -2 & -3 \\\\\n",
    " & 1 &  \\\\\n",
    " &  & 1\n",
    "\\end{pmatrix} = B$$\n",
    "### (d)"
   ]
  },
  {
   "cell_type": "code",
   "execution_count": 7,
   "id": "fb4f6c4d",
   "metadata": {},
   "outputs": [
    {
     "data": {
      "text/plain": [
       "true"
      ]
     },
     "execution_count": 7,
     "metadata": {},
     "output_type": "execute_result"
    }
   ],
   "source": [
    "A = [2 4 6; 3 1 10; 0 -1 3]\n",
    "B = [2 0 0; 3 -5 1; 0 -1 3]\n",
    "\n",
    "E = [1 -2 -3; 0 1 0; 0 0 1]\n",
    "\n",
    "A * E == B"
   ]
  }
 ],
 "metadata": {
  "kernelspec": {
   "display_name": "Julia 1.9.0",
   "language": "julia",
   "name": "julia-1.9"
  },
  "language_info": {
   "file_extension": ".jl",
   "mimetype": "application/julia",
   "name": "julia",
   "version": "1.9.0"
  }
 },
 "nbformat": 4,
 "nbformat_minor": 5
}
