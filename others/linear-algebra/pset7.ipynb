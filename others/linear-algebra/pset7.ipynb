{
 "cells": [
  {
   "attachments": {},
   "cell_type": "markdown",
   "metadata": {},
   "source": [
    "# 18.06 Problem Set 7"
   ]
  },
  {
   "attachments": {},
   "cell_type": "markdown",
   "metadata": {},
   "source": [
    "## Problem 1 [2+5+5+5+5+5]"
   ]
  },
  {
   "attachments": {},
   "cell_type": "markdown",
   "metadata": {},
   "source": [
    "### (a)\n",
    "...because the rank of $A^T$ is also $n$, which means there are $n$ pivot columns and they are enough to solve any $b$ but the solution $x$ is not *unique* because $m > n$ means there are free columns and there will be infinitely many solutions.  "
   ]
  },
  {
   "attachments": {},
   "cell_type": "markdown",
   "metadata": {},
   "source": [
    "### (b)\n",
    "If $x_0 \\in C(A)$, we can find some $y$ satisfying $Ay = x_0$, which means\n",
    "$$A^TAy = b \\Rightarrow y = (A^TA)^{-1}b \\Rightarrow x_0 = A(A^TA)^{-1}b$$\n",
    "$(A^TA)^{-1}$ exists since $A$ has $n$ independent columns thus $A^TA$ is invertible.  "
   ]
  },
  {
   "attachments": {},
   "cell_type": "markdown",
   "metadata": {},
   "source": [
    "### (c)\n",
    "Any $x \\in C(A)$ can be written $x = Qy$ because there exists some $z$ satisfying $Az = QRz = x$ and $y = Rz$.  \n",
    "Therefore the solution can be written as\n",
    "$$A^TQy = b \\Rightarrow R^TQ^TQy = b \\Rightarrow y = (R^T)^{-1}b$$"
   ]
  },
  {
   "attachments": {},
   "cell_type": "markdown",
   "metadata": {},
   "source": [
    "### (d)\n",
    "No, for example, if $A = \\begin{bmatrix} 1 \\\\ 1 \\end{bmatrix}, b = [1]$, then\n",
    " - For $x_\\text{particular}$  \n",
    "    $A^T = \\begin{bmatrix} 1 & 1 \\end{bmatrix}$ and the pivot column is the first one so $x = \\begin{bmatrix} 1 \\\\ 0 \\end{bmatrix}$.  \n",
    " - For (b)  \n",
    "    $x_0 = \\begin{bmatrix} 1 \\\\ 1 \\end{bmatrix}\\left(\\begin{bmatrix} 1 & 1 \\end{bmatrix}\\begin{bmatrix} 1 \\\\ 1 \\end{bmatrix}\\right)^{-1}[1] = \\begin{bmatrix} \\frac 1 2 \\\\ \\frac 1 2 \\end{bmatrix}$.  \n",
    " - For (c)  \n",
    "    $A = \\begin{bmatrix} \\frac 1 {\\sqrt{2}} \\\\ \\frac 1 {\\sqrt{2}} \\end{bmatrix}[\\sqrt{2}]$, therefore $x_0 = \\begin{bmatrix} \\frac 1 {\\sqrt{2}} \\\\ \\frac 1 {\\sqrt{2}} \\end{bmatrix}[\\sqrt 2]^{-1}[1] = \\begin{bmatrix} \\frac 1 2 \\\\ \\frac 1 2 \\end{bmatrix}$.  \n",
    "\n",
    "The reason is this method does not have any restriction on the free columns, and in most cases they might contain non-zero entries.  "
   ]
  },
  {
   "attachments": {},
   "cell_type": "markdown",
   "metadata": {},
   "source": [
    "### (e)\n",
    "...where $x_1$ is any vector in the subspace $N(A^T)$.  \n",
    "Since $x_0 \\in C(A)$ and $x_1 \\in N(A^T)$ so $x_0^Tx_1 = 0$. Therefore, $\\|x\\|^2 = \\|x_0\\|^2 + \\|x_1\\|^2$ and $\\|x\\|$ attains it minimum when $x = x_0$. Therefore $\\hat x = x_0$.   "
   ]
  },
  {
   "cell_type": "code",
   "execution_count": 1,
   "metadata": {},
   "outputs": [
    {
     "data": {
      "text/plain": [
       "10-element Vector{Float64}:\n",
       "  0.0785053216036506\n",
       "  0.040110668671558714\n",
       "  0.16133232462488192\n",
       "  0.15978875027961942\n",
       " -0.22998616581165643\n",
       " -0.541681811895948\n",
       " -0.08459451325752068\n",
       " -0.08825039720677819\n",
       " -0.1768593238058871\n",
       "  0.34818730243356"
      ]
     },
     "metadata": {},
     "output_type": "display_data"
    }
   ],
   "source": [
    "using LinearAlgebra\n",
    "\n",
    "A = randn(10, 3) # a random full-rank \"tall\" matrix\n",
    "QR = qr(A) # its QR factorization\n",
    "Q = Matrix(QR.Q) # the 10x3 \"thin\" Q factor\n",
    "R = QR.R         # and the 3x3 R factor\n",
    "\n",
    "b = randn(3) # a random right-hand side\n",
    "x̂ = A' \\ b   # the minimum-norm solution to Aᵀx = b using the built-in \\"
   ]
  },
  {
   "cell_type": "code",
   "execution_count": 4,
   "metadata": {},
   "outputs": [
    {
     "data": {
      "text/plain": [
       "10-element Vector{Float64}:\n",
       "  0.07850532160365058\n",
       "  0.04011066867155885\n",
       "  0.1613323246248821\n",
       "  0.1597887502796196\n",
       " -0.22998616581165665\n",
       " -0.5416818118959482\n",
       " -0.08459451325752072\n",
       " -0.08825039720677845\n",
       " -0.1768593238058871\n",
       "  0.3481873024335602"
      ]
     },
     "metadata": {},
     "output_type": "display_data"
    }
   ],
   "source": [
    "y = (transpose(R))^-1 * b   # your solution from (c), a formula in terms of Q, R, and/or b\n",
    "x₀ = Q * y"
   ]
  },
  {
   "cell_type": "code",
   "execution_count": 5,
   "metadata": {},
   "outputs": [
    {
     "data": {
      "text/plain": [
       "true"
      ]
     },
     "metadata": {},
     "output_type": "display_data"
    }
   ],
   "source": [
    "x̂ₑ = x₀    # your solution from (e)\n",
    "x̂ₑ ≈ x̂ # should print \"true\""
   ]
  },
  {
   "attachments": {},
   "cell_type": "markdown",
   "metadata": {},
   "source": [
    "## Problem 2 [9+6]"
   ]
  },
  {
   "attachments": {},
   "cell_type": "markdown",
   "metadata": {},
   "source": [
    "### (a)\n",
    "First,\n",
    "$$p_1 = 1$$\n",
    "Second,\n",
    "$$p_2 = x - \\frac{1 \\cdot x}{1 \\cdot 1} \\times 1 = x - 1$$\n",
    "Third,\n",
    "$$p_3 = x^2 - \\frac{1 \\cdot x^2}{1 \\cdot 1} \\times 1 - \\frac{(x - 1) \\cdot x^2}{(x - 1) \\cdot (x - 1)} \\times (x - 1)\n",
    "= x^2 - \\frac{2}{1}\\times 1 - \\frac{4}{1} \\times (x - 1) = x^2 - 4x + 2$$\n",
    "Finally, we normalize them,\n",
    "$$q_1 = 1, q_2 = x - 1, q_3 = \\frac 1 2 (x^2 - 4x + 2)$$"
   ]
  },
  {
   "attachments": {},
   "cell_type": "markdown",
   "metadata": {},
   "source": [
    "### (b)\n",
    "Since $1$ and $x - 1$ are orthonormal vectors that span all the linear functions, we are going to project $f$ onto the space spanned by $1$ and $x - 1$.  \n",
    "$$\\mathrm{proj}_1 f(x) = \\frac{\\int_0^1 1 \\cdot x \\cdot e^{-x}dx}{1} \\times 1 = 1 - \\frac 2 e$$\n",
    "$$\\mathrm{proj}_{x-1} f(x) = \\frac{\\int_0^1 (x-1) \\cdot x \\cdot e^{-x}dx}{1} \\times (x - 1) = \\left(1 - \\frac 3 e\\right)(x - 1)$$\n",
    "Thus\n",
    "$$p(x) = (1 - \\frac 3 e)x + \\frac 1 e$$"
   ]
  },
  {
   "attachments": {},
   "cell_type": "markdown",
   "metadata": {},
   "source": [
    "## Problem 3 [10+10+5]\n",
    "### (a)\n",
    "Let's try to stack the two vectors as $\\begin{bmatrix}b - Ax \\\\ \\sqrt\\lambda x\\end{bmatrix}$, since $\\begin{bmatrix}b - Ax & \\sqrt\\lambda x\\end{bmatrix}\\begin{bmatrix}b - Ax \\\\ \\sqrt\\lambda x\\end{bmatrix} = (b-Ax)^T(b-Ax) + \\lambda x^Tx$.\n",
    "$$\\begin{bmatrix}b - Ax \\\\ \\sqrt\\lambda x\\end{bmatrix} = \\begin{bmatrix}b \\\\ \\mathbf 0_{n\\times 1}\\end{bmatrix} - \\begin{bmatrix} Ax \\\\ -\\sqrt\\lambda x\\end{bmatrix} = \\underbrace{\\begin{bmatrix}b \\\\ \\mathbf 0_{n\\times 1}\\end{bmatrix}}_c - \\underbrace{\\begin{bmatrix} A \\\\ -\\sqrt\\lambda \\cdot I_{n\\times n}\\end{bmatrix}}_Bx$$\n"
   ]
  },
  {
   "attachments": {},
   "cell_type": "markdown",
   "metadata": {},
   "source": [
    "### (b)\n",
    "Since we are now solving the smallest square fit of \n",
    "$$Bx = c$$\n",
    "We does that by finding\n",
    "$$B^TB\\hat x = B^Tc$$\n",
    "Expand that yields\n",
    "$$\\begin{bmatrix} A^T & -\\sqrt\\lambda \\cdot I_{n\\times n}\\end{bmatrix}\\begin{bmatrix} A \\\\ -\\sqrt\\lambda \\cdot I_{n\\times n}\\end{bmatrix}\\hat x = \\begin{bmatrix} A^T & -\\sqrt\\lambda \\cdot I_{n\\times n}\\end{bmatrix}\\begin{bmatrix}b \\\\ \\mathbf 0_{n\\times 1}\\end{bmatrix}$$\n",
    "$$(A^TA + \\lambda I)\\hat x = A^Tb$$"
   ]
  },
  {
   "attachments": {},
   "cell_type": "markdown",
   "metadata": {},
   "source": [
    "### (c)\n",
    "We want to prove that $A^TA + \\lambda I$ has a null space of $\\{\\mathbf 0\\}$.  \n",
    "Assume \n",
    "$$(A^TA + \\lambda I)x = \\mathbf 0$$\n",
    "Multiply both side by $x^T$ on the left, \n",
    "$$x^TA^TAx + \\lambda x^TIx = 0$$\n",
    "$$\\|Ax\\|^2 + \\lambda \\|x\\|^2 = 0$$\n",
    "Since $\\lambda > 0$, then\n",
    "$$\\|x\\|^2 = 0$$\n",
    "then $x$ can only be $\\mathbf 0$."
   ]
  },
  {
   "attachments": {},
   "cell_type": "markdown",
   "metadata": {},
   "source": []
  }
 ],
 "metadata": {
  "kernelspec": {
   "display_name": "Julia 1.9.0",
   "language": "julia",
   "name": "julia-1.9"
  },
  "language_info": {
   "file_extension": ".jl",
   "mimetype": "application/julia",
   "name": "julia",
   "version": "1.9.0"
  },
  "orig_nbformat": 4
 },
 "nbformat": 4,
 "nbformat_minor": 2
}
