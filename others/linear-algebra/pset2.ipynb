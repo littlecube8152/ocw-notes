{
 "cells": [
  {
   "attachments": {},
   "cell_type": "markdown",
   "metadata": {},
   "source": [
    "# 18.06 Pset 2\n",
    "## Problem 1 [10]\n",
    "### (a)\n",
    "Since we are going to exchange the rows, we multiply permutation matrix on the left.  \n",
    "$$L = \\begin{bmatrix} 0 & 0 & 0 & 1 \\\\ 0 & 0 & 1 & 0 \\\\ 0 & 1 & 0 & 0 \\\\ 1 & 0 & 0 & 0\\end{bmatrix}A$$"
   ]
  },
  {
   "cell_type": "code",
   "execution_count": 2,
   "metadata": {},
   "outputs": [
    {
     "data": {
      "text/plain": [
       "4×4 Matrix{Int64}:\n",
       " -1  0  0  0\n",
       "  4  2  0  0\n",
       " -2  1  1  0\n",
       "  1  3  2  5"
      ]
     },
     "execution_count": 2,
     "metadata": {},
     "output_type": "execute_result"
    }
   ],
   "source": [
    "A = [ 1 3 2 5\n",
    "     -2 1 1 0\n",
    "      4 2 0 0\n",
    "     -1 0 0 0 ]\n",
    "P = [ 0 0 0 1\n",
    "      0 0 1 0\n",
    "      0 1 0 0\n",
    "      1 0 0 0 ]\n",
    "L = P * A"
   ]
  },
  {
   "attachments": {},
   "cell_type": "markdown",
   "metadata": {},
   "source": [
    "### (b)\n",
    "Let the permutation matrix be $P$, we know that\n",
    "$$L = PA \\Rightarrow P^TL = A$$\n",
    "Solving $Ax = b$ can be reduced to solving $P^Ty = b$ and $Lx = y$.  \n",
    "1. $P^Ty = b$, therefore $y = Pb$.  \n",
    "2. $Lz = y$ from subtitution.  \n",
    "3. $x = z$.  "
   ]
  },
  {
   "attachments": {},
   "cell_type": "markdown",
   "metadata": {},
   "source": [
    "### (c)"
   ]
  },
  {
   "cell_type": "code",
   "execution_count": 3,
   "metadata": {},
   "outputs": [
    {
     "data": {
      "text/plain": [
       "4-element Vector{Float64}:\n",
       "  1.0\n",
       "  3.0\n",
       " -2.0\n",
       "  4.0"
      ]
     },
     "execution_count": 3,
     "metadata": {},
     "output_type": "execute_result"
    }
   ],
   "source": [
    "using LinearAlgebra\n",
    "\n",
    "b = [26, -1, 10, -1]\n",
    "\n",
    "y = [-1, 10, -1, 26]\n",
    "z = LowerTriangular(L) \\ y    # tells Julia to use forward-substitution\n",
    "x = z"
   ]
  },
  {
   "cell_type": "code",
   "execution_count": 4,
   "metadata": {},
   "outputs": [
    {
     "data": {
      "text/plain": [
       "4-element Vector{Float64}:\n",
       "  0.9999999999999989\n",
       "  3.000000000000002\n",
       " -2.0000000000000044\n",
       "  4.000000000000001"
      ]
     },
     "execution_count": 4,
     "metadata": {},
     "output_type": "execute_result"
    }
   ],
   "source": [
    "A \\ b"
   ]
  },
  {
   "attachments": {},
   "cell_type": "markdown",
   "metadata": {},
   "source": [
    "## Problem 2 [15]"
   ]
  },
  {
   "attachments": {},
   "cell_type": "markdown",
   "metadata": {},
   "source": [
    "### (a)\n",
    "1. $YX$  \n",
    "   You can see that, in the first row of $YX$, we take $1$ times first row of $X$ and $2$ times second row of $X$; in the second row of $YX$, we take $-3$ times first row and $4$ times of second row. Thus all operations are linear: we assign each element to be the linear combination of all the elements.  \n",
    "2. $XZ$\n",
    "   In the first row of $XZ$, we take $5$ times first column of $X$ and $7$ times second column of $X$; in the second column of $XZ$, we take $-6$ times first column and $8$ times of second column. Thus all operations are linear: we assign each element to be the linear combination of all the elements.  \n",
    "Therefore all the operations are linear.  "
   ]
  },
  {
   "attachments": {},
   "cell_type": "markdown",
   "metadata": {},
   "source": [
    "### (b)\n",
    "$$\\underbrace{\\begin{pmatrix} 6 & 7 & 2 & 0 \\\\ -6 & 9 & 0 & 2 \\\\ -3 & 0 & 9 & 7 \\\\ 0 & -3 & -6 & 12 \\end{pmatrix}}_{A}\\begin{pmatrix} a \\\\ b \\\\ c \\\\ d \\end{pmatrix} = \\underbrace{\\begin{pmatrix} -7 \\\\ 21 \\\\ -3 \\\\ 3 \\end{pmatrix}}_{b}$$"
   ]
  },
  {
   "attachments": {},
   "cell_type": "markdown",
   "metadata": {},
   "source": [
    "### (c)"
   ]
  },
  {
   "cell_type": "code",
   "execution_count": 5,
   "metadata": {},
   "outputs": [
    {
     "data": {
      "text/plain": [
       "true"
      ]
     },
     "execution_count": 5,
     "metadata": {},
     "output_type": "execute_result"
    }
   ],
   "source": [
    "A = [6 7 2 0; -6 9 0 2; -3 0 9 7; 0 -3 -6 12]\n",
    "b = [-7; 21; -3; 3]\n",
    "x = A \\ b\n",
    "X = [x[1] x[2]; x[3] x[4] ]\n",
    "\n",
    "Y = [1 2; -3 4]\n",
    "Z = [5 -6; 7 8]\n",
    "B = [-7 21; -3 3]\n",
    "\n",
    "Y*X + X*Z ≈ B # should return \"true\""
   ]
  },
  {
   "attachments": {},
   "cell_type": "markdown",
   "metadata": {},
   "source": [
    "### (d)\n",
    "Proportional to $n^6$.  \n",
    "Since Guass Elimination requires $m^3$ for square matrices (where $m$ is the number of rows) and $A$ would be a $n^2 \\times n^2$ matrix, the computation time is proportional to $n^6$.  "
   ]
  },
  {
   "cell_type": "code",
   "execution_count": 6,
   "metadata": {},
   "outputs": [
    {
     "data": {
      "text/plain": [
       "2×2 Matrix{Float64}:\n",
       " -2.0  1.0\n",
       " -1.0  2.22045e-16"
      ]
     },
     "execution_count": 6,
     "metadata": {},
     "output_type": "execute_result"
    }
   ],
   "source": [
    "using LinearAlgebra # in case you didn't load this yet\n",
    "\n",
    "X_fast = sylvester(Y, Z, -B) # solves YX+XZ = B for X much more efficiently than above"
   ]
  },
  {
   "attachments": {},
   "cell_type": "markdown",
   "metadata": {},
   "source": [
    "## Problem 3 [12]\n",
    "1. **No.** Take any vector in the set. Multipling it by scalar $2$ gives another vector whose component sum is $2$, which is not in the set.  \n",
    "2. **No.** Since $[0,1]$ and $[1,0]$ are in the set but their combination, $[1,1]$ is not.  \n",
    "3. **No.** Let $S, T$ be two subspaces of $\\mathbb R^2$, defined as \n",
    "   $$S = \\{[0, a] | a \\in \\mathbb R\\}, T = \\{[a, 0] | a \\in \\mathbb R\\}$$\n",
    "   Their union conatins $[0,1]$ and $[1,0]$ but their combination, $[1,1]$ is not.  \n",
    "4. **Yes.**\n",
    "   1. $\\mathbf 0$ must be present in both subspaces.\n",
    "   2. For any scalar $c$ and vector $\\mathbf v$, $c\\mathbf v \\in S$ and $\\in T$ so $c\\mathbf v \\in S \\cap T$.  \n",
    "   3. For any two vectors $\\mathbf u, \\mathbf v$, $\\mathbf u + \\mathbf v \\in S$ and $\\in T$ so $\\mathbf u + \\mathbf v \\in S \\cap T$.  \n",
    "   \n",
    "   Therefore $S\\cap T$ is a valid vector space.  \n",
    "5. **Yes.**\n",
    "   1. $\\mathbf 0$ is present (choosing $x = \\mathbf 0$).  \n",
    "   2. For any scalar $c$ and vector $v$, there exists $x$ s.t. $Ax = v$, so $cv$ is in the set since $A(cx) = (cv)$.\n",
    "   3. For any two vectors $u, v$, there exist $x, y$ s.t. $Ax = u, Ay = v$, so $u + v$ is in the set since $A(x + y) = u + v$.  \n",
    "   \n",
    "   Therefore it is a valid vector space.  \n",
    "6. **Yes.**\n",
    "   1. $f(x) = 0$ is present ($\\int_{-\\infty}^{\\infty} 0 dx = 0$).  \n",
    "   2. For any scalar $c$ and function $f$, $\\int_{-\\infty}^{\\infty} e^{-x^2}cf(x) dx = c\\cdot\\int_{-\\infty}^{\\infty} e^{-x^2}f(x) dx = c \\cdot 0 = 0$, so $cf$ is in the set.  \n",
    "   3. For any two functions $f, g$, $\\int_{-\\infty}^{\\infty} e^{-x^2}(f(x) + g(x)) dx = \\int_{-\\infty}^{\\infty} e^{-x^2}f(x) dx + \\int_{-\\infty}^{\\infty} e^{-x^2}g(x) dx = 0 + 0 = 0$ so $f + g$ is in the set.  \n",
    "   \n",
    "   Therefore it is a valid vector space.  "
   ]
  },
  {
   "attachments": {},
   "cell_type": "markdown",
   "metadata": {},
   "source": [
    "## Problem 4 [10]\n",
    "$$N(C) = N(A) \\cap N(B)$$\n",
    "*Proof.* For each solution $x$ in both $N(A)$ and $N(B)$, $x$ is a $n \\times 1$ matrix and\n",
    "$$Ax = \\mathbf 0_{m\\times 1}, Bx = \\mathbf 0_{p\\times 1} \\Rightarrow Cx = \\begin{bmatrix}A \\\\ B \\end{bmatrix}x = \\mathbf 0_{(m + p)\\times 1}$$\n",
    "For each solution $y$ in $N(C)$,\n",
    "$$Cx = \\begin{bmatrix}A \\\\ B \\end{bmatrix}x = \\mathbf 0 \\Rightarrow \\begin{bmatrix}A \\\\ B \\end{bmatrix}x = \\begin{bmatrix}\\mathbf 0_{m\\times 1} \\\\ 0_{p\\times 1} \\end{bmatrix} \\Rightarrow Ax = \\mathbf 0_{m\\times 1}, Bx = \\mathbf 0_{p\\times 1}$$"
   ]
  },
  {
   "attachments": {},
   "cell_type": "markdown",
   "metadata": {},
   "source": [
    "## Problem 5 [10]\n",
    "For every $x \\in N(B)$, \n",
    "$$Bx = \\mathbf 0 \\Rightarrow ABx = A\\mathbf 0 = \\mathbf 0$$\n",
    "Therefore $N(B) \\subseteq N(AB) \\Rightarrow N(B)$ is a subspace of $N(AB)$.   "
   ]
  },
  {
   "attachments": {},
   "cell_type": "markdown",
   "metadata": {},
   "source": [
    "## Problem 6 [10]\n",
    "We want to find some\n",
    "$$a\\begin{bmatrix}2\\\\0\\\\0\\end{bmatrix}+b\\begin{bmatrix}1\\\\3\\\\0\\end{bmatrix}=\\begin{bmatrix}0\\\\2\\\\0\\end{bmatrix}$$\n",
    "which is\n",
    "$$\\begin{bmatrix}2 & 1 \\\\0 & 3 \\\\0 & 0\\end{bmatrix}\\begin{bmatrix}a \\\\ b\\end{bmatrix} = \\begin{bmatrix}0\\\\2\\\\0\\end{bmatrix}$$\n",
    "By back-substitution, we know\n",
    "$$\\begin{bmatrix}a \\\\ b\\end{bmatrix} = \\begin{bmatrix}-\\dfrac{1}{3} \\\\ \\dfrac{2}{3}\\end{bmatrix}$$\n",
    "Therefore we know if $[x_1, x_2, x_3]$ is a solution, then $[x_1 - \\frac{1}{3}x_3, x_2 +\\frac{2}{3}x_3]$ is also a solution.  "
   ]
  },
  {
   "attachments": {},
   "cell_type": "markdown",
   "metadata": {},
   "source": [
    "## Problem 7 [12]\n",
    "### (a)\n",
    "We apply elimination to get the reduced row echelon form of $A$.  \n",
    "$$\\begin{bmatrix} 1 & 2 & 3 & 4 \\\\ 1 & 2 & 4 & 6 \\\\ 0 & 0 & 1 & 2 \\end{bmatrix} \\rightarrow \\begin{bmatrix} 1 & 2 & 3 & 4 \\\\ 0 & 0 & 1 & 2 \\\\ 0 & 0 & 1 & 2 \\end{bmatrix} \\rightarrow \\begin{bmatrix} 1 & 2 & 3 & 4 \\\\ 0 & 0 & 1 & 2 \\\\ 0 & 0 & 0 & 0 \\end{bmatrix}$$\n",
    "The free columns are the second and the fourth ones, therefore the special solutions are \n",
    "$$\\begin{bmatrix}-2 \\\\ 1 \\\\ 0 \\\\ 0\\end{bmatrix}, \\begin{bmatrix}2 \\\\ 0 \\\\ -2 \\\\ 1\\end{bmatrix}$$\n",
    "### (b)\n",
    "Since the second column is a new free column, the solution (basis) will be\n",
    "$$\\begin{bmatrix}-2 \\\\ 0 \\\\ 1 \\\\ 0 \\\\ 0\\end{bmatrix}, \\begin{bmatrix}2 \\\\ 0 \\\\ 0 \\\\ -2 \\\\ 1\\end{bmatrix}, \\begin{bmatrix}0 \\\\ 1 \\\\ 0 \\\\ 0 \\\\ 0\\end{bmatrix}$$\n",
    "### (c)\n",
    "Adding a zero row does not change the solution.  "
   ]
  },
  {
   "attachments": {},
   "cell_type": "markdown",
   "metadata": {},
   "source": []
  }
 ],
 "metadata": {
  "kernelspec": {
   "display_name": "Julia 1.9.0",
   "language": "julia",
   "name": "julia-1.9"
  },
  "language_info": {
   "file_extension": ".jl",
   "mimetype": "application/julia",
   "name": "julia",
   "version": "1.9.0"
  },
  "orig_nbformat": 4
 },
 "nbformat": 4,
 "nbformat_minor": 2
}
