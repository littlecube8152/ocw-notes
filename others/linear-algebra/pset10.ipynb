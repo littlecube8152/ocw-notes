{
 "cells": [
  {
   "attachments": {},
   "cell_type": "markdown",
   "metadata": {},
   "source": [
    "# 18.06 Problem Set 10"
   ]
  },
  {
   "attachments": {},
   "cell_type": "markdown",
   "metadata": {},
   "source": [
    "## Problem 1 [5+5+5+5]\n",
    "### (a)\n",
    "Let $\\vec y = \\begin{bmatrix} 1 & 0 \\\\ 0 & \\sqrt\\frac{m}{k}\\end{bmatrix}\\vec x$, then  \n",
    "$$\\frac{d\\vec y}{dt} = \\begin{bmatrix} 1 & 0 \\\\ 0 & \\sqrt\\frac{m}{k}\\end{bmatrix}\\frac{d\\vec x}{dt} = \\begin{bmatrix} 0 & 1 \\\\ -\\sqrt\\frac{k}{m} & 0 \\end{bmatrix}\\vec x = \\begin{bmatrix} 0 & 1 \\\\ -1 & 0 \\end{bmatrix}\\vec y$$\n",
    "We know that $B = DAD^{-1}$ so $B$ is similar to $A$.  "
   ]
  },
  {
   "attachments": {},
   "cell_type": "markdown",
   "metadata": {},
   "source": [
    "### (b)\n",
    "For any anti-Hermitian $B =-B^H$, the matrix $iB$ is a Hermitian matrix because, assuming that $a_{i, j} = a + bi$ and $a_{j, i} = -a + bi$,  \n",
    "$$i(a + bi) = ai - b = \\overline{- ai - b} = \\overline{i(-a + bi)}$$\n",
    "Therefore $iB = (iB)^H$.  \n",
    "Since Hermitian matrices have real eigenvalues, suppose that $(iB)x = \\lambda x$, then $Bx = (-i\\lambda)x$ and $B$ has purely imaginary eigenvalues.  Hence the solutions $\\vec y$ of $\\frac{d\\vec y}{dx} = B\\vec y$ is ocillating.  "
   ]
  },
  {
   "attachments": {},
   "cell_type": "markdown",
   "metadata": {},
   "source": [
    "### (c)\n",
    "For any anti-Hermitian matrices $B = -B^H$, the matrix $Q = e^{Bt}$ has the property of\n",
    "$$Q^HQ = (e^{Bt})^He^{Bt} = e^{B^Ht}e^{Bt} = e^{-Bt}e^{Bt}$$\n",
    "Expand those by Taylor Series, we want to show for every integer $n \\geq 1$,  \n",
    "$$\\sum_{i = 0}^{n}\\frac{(-1)^i(Bt)^i}{i!} \\cdot \\frac{(Bt)^{n - i}}{(n - i)!} = \\mathbf 0$$\n",
    "Take the common factor of $(Bt)^n$ from the expression, and multiply by $n!$:\n",
    "$$\\sum_{i = 0}^{n}\\frac{(-1)^i(Bt)^i}{i!} \\cdot \\frac{(Bt)^{n - i}}{(n - i)!} = \\frac{(Bt)^n}{n!}\\sum_{i = 0}^{n}(-1)^i\\frac{n!}{i!(n - i)!}$$\n",
    "By the Binomial Expansion, we know that this is equal to\n",
    "$$\\frac{(Bt)^n}{n!} (1 - 1)^n = \\mathbf 0$$\n",
    "Therefore,  \n",
    "$$Q^HQ = e^{-Bt}e^{Bt} = \\left(I + \\frac{-(Bt)}{1!} + \\frac{(-Bt)^2}{2!} + \\cdots\\right)\\left(I + \\frac{Bt}{1!} + \\frac{(Bt)^2}{2!} + \\cdots\\right) = I$$  \n",
    "so $Q$ is unitary.  "
   ]
  },
  {
   "attachments": {},
   "cell_type": "markdown",
   "metadata": {},
   "source": [
    "### (d)\n",
    "Take the norm of the both sides:\n",
    "$$\\|\\vec y(t)\\| = \\|e^{Bt}\\vec y(0)\\| = \\|\\vec y(0)\\|$$\n",
    "$$\\left\\|\\begin{bmatrix} 1 & 0 \\\\ 0 & \\sqrt\\frac{m}{k}\\end{bmatrix}\\begin{bmatrix}x(t) \\\\ v(t)\\end{bmatrix}\\right\\| = \\left\\|\\begin{bmatrix} 1 & 0 \\\\ 0 & \\sqrt\\frac{m}{k}\\end{bmatrix}\\begin{bmatrix}x(0) \\\\ v(0)\\end{bmatrix}\\right\\|$$\n",
    "$$\\left\\|\\begin{bmatrix}x(t) \\\\ \\sqrt\\frac{m}{k}v(t)\\end{bmatrix}\\right\\| = \\left\\|\\begin{bmatrix}x(0) \\\\ \\sqrt\\frac{m}{k}v(0)\\end{bmatrix}\\right\\|$$\n",
    "$$x(t)^2 + \\frac{m}{k}v(t)^2 = x(0)^2 + \\frac{m}{k}v(0)^2 \\Rightarrow \\frac{1}{2}kx(t)^2 + \\frac{1}{2}mv(t)^2 = \\frac{1}{2}kx(0)^2 + \\frac{1}{2}mv(0)^2$$\n",
    "Therefore no matter what $t$ is, the energy $\\frac{1}{2}kx(t)^2 + \\frac{1}{2}mv(t)^2$ is always the same as the initial state.  "
   ]
  },
  {
   "attachments": {},
   "cell_type": "markdown",
   "metadata": {},
   "source": [
    "## Problem 2 [10+5]\n",
    "### (a)\n",
    "$$e^{At} \\approx I + \\frac{At}{1!} + \\frac{(At)^2}{2!} + \\frac{(At)^3}{3!} + \\frac{(At)^4}{4!}$$\n",
    "$$\\frac{d}{dt}e^{At} \\approx \\frac{1A}{1!} + \\frac{2A^2t}{2!} + \\frac{3A^3t^2}{3!} + \\frac{4A^4t^3}{4!} = \\frac{A}{0!} + \\frac{A^2t}{1!} + \\frac{A^3t^2}{2!} + \\frac{3A^4t^3}{3!} \\approx Ae^{At}$$"
   ]
  },
  {
   "attachments": {},
   "cell_type": "markdown",
   "metadata": {},
   "source": [
    "### (b)\n",
    "$$e^A \\approx I + \\frac{A}{1!} + \\frac{A^2}{2!} + \\frac{A^3}{3!} + \\frac{A^4}{4!}$$\n",
    "$$\\begin{align*} \n",
    "e^{A + dA} \n",
    "& \\approx I \\\\\n",
    "& + \\frac{A + dA}{1!} \\\\\n",
    "& + \\frac{A^2 + AdA + dAA + dA^2}{2!} \\\\\n",
    "& + \\frac{A^3 + A^2dA + AdAA + dAA^2 + \\cdots}{3!} \\\\ \n",
    "& + \\frac{A^4 + A^3dA + A^2dAA + AdAA^2 + dAA^3 + \\cdots}{4!}\\end{align*}$$\n",
    "Therefore \n",
    "$$\\begin{align*} \n",
    "e^{A + dA} - e^{A}  \n",
    "& \\approx \\frac{dA}{1!} \\\\\n",
    "& + \\frac{AdA + dAA}{2!} \\\\\n",
    "& + \\frac{A^2dA + AdAA + dAA^2}{3!} \\\\ \n",
    "& + \\frac{A^3dA + A^2dAA + AdAA^2 + dAA^3}{4!}\\end{align*}$$\n",
    "\n",
    "We can change the order if and only if $A$ and $dA$ is commutable.  "
   ]
  },
  {
   "attachments": {},
   "cell_type": "markdown",
   "metadata": {},
   "source": [
    "## Problem 3 [5+5+5+5+5]\n",
    "### (a)\n",
    "Two special solutions are $y(t) = e^{3it}y(0)$ and $y(t) = e^{-3it}y(0)$.  \n",
    "\n",
    "Assume that $y(t) = (ae^{3it} + be^{-3it})y(0)$.  \n",
    "$y(t) = (ae^{3it} + be^{-3it})y(0)$.  Since $y(0) = 3$,  \n",
    "$$(ae^0 + be^0)\\cdot 3 = 3 \\Rightarrow a + b = 1$$\n",
    "$y'(t) = (3aie^{3it} - 3bie^{-3it})\\cdot 3$. Since $y'(0) = 0$, \n",
    "$$(3aie^{0} - 3bie^{0})\\cdot 3 = 0 \\Rightarrow a = b$$\n",
    "Therefore $a = b = \\frac 1 2$ and the solution to $d^2y/dt^2 = -9y$ with $y(0) = 3, y'(0) = 0$ is $y(t) = \\frac 3 2 e^{3it} + \\frac 3 2 e^{-3it}$."
   ]
  },
  {
   "attachments": {},
   "cell_type": "markdown",
   "metadata": {},
   "source": [
    "### (b)\n",
    "$$A - \\lambda I = \\begin{bmatrix} 1 - \\lambda & -5 \\\\ 10 & -14 - \\lambda \\end{bmatrix} \\Rightarrow (1 - \\lambda)(-14 - \\lambda) - (-5)\\times 10 = 0 \\Rightarrow \\lambda^2 + 13 \\lambda + 36 = 0 \\Rightarrow \\lambda_1 = -9, \\lambda_2 = -4$$\n",
    "The eigenvectors are:\n",
    "$$\\begin{bmatrix} 10 & -5 \\\\ 10 & -5 \\end{bmatrix}x_1 = \\mathbf 0 \\Rightarrow x_1 = \\begin{bmatrix}1 \\\\ 2\\end{bmatrix}$$\n",
    "$$\\begin{bmatrix} 5 & -5 \\\\ 10 & -10 \\end{bmatrix}x_2 = \\mathbf 0 \\Rightarrow x_2 = \\begin{bmatrix}1 \\\\ 1\\end{bmatrix}$$"
   ]
  },
  {
   "attachments": {},
   "cell_type": "markdown",
   "metadata": {},
   "source": [
    "### (c)\n",
    "If $x(t) = c_1(t)x_1 + c_2(t)x_2$,  \n",
    "then $\\dfrac{d^2x}{dt^2} = A(c_1(t)x_1 + c_2(t)x_2) \\Rightarrow \\dfrac{d^2c_1}{dt^2}x_1 + \\dfrac{d^2c_2}{dt^2}x_2 = c_1(t)\\lambda_1x_1 + c_2(t)\\lambda_2x_2$.  \n",
    "Since $x_1, x_2$ are linearly independent,  \n",
    "$$\\dfrac{d^2c_i}{dt^2}x_i = c_i(t)\\lambda_ix_i \\Rightarrow c_i(t) = ae^{\\sqrt{\\lambda_i}t} + be^{-\\sqrt{\\lambda_i}t}$$\n",
    "Substituing the actual values, \n",
    "$$\\begin{cases}\n",
    "c_1(t) = a_1e^{3it} + b_1e^{-3it}\\\\\n",
    "c_2(t) = a_2e^{2it} + b_2e^{-2it}\\\\\n",
    "\\end{cases}$$"
   ]
  },
  {
   "attachments": {},
   "cell_type": "markdown",
   "metadata": {},
   "source": [
    "### (d)\n",
    "If $x(0) = (2, 3)$, by elimination we have  \n",
    "$$\\begin{bmatrix} 1 & 1 \\\\ 2 & 1 \\end{bmatrix}\n",
    "\\begin{bmatrix} c_1(0) \\\\ c_2(0) \\end{bmatrix}\n",
    "= \\begin{bmatrix}2 \\\\ 3\\end{bmatrix} \n",
    "\\Rightarrow \\begin{cases}c_1(0) = 1 \\\\ c_2(0) = 1 \\end{cases}\n",
    "\\Rightarrow \\begin{cases}a_1 + b_1 = 1 \\\\ a_2 + b_2 = 1 \\end{cases}$$\n",
    "If $x'(0) = (1, 4)$, by elimination we have\n",
    "$$\\begin{bmatrix} 1 & 1 \\\\ 2 & 1 \\end{bmatrix}\n",
    "\\begin{bmatrix} c_1'(0) \\\\ c_2'(0) \\end{bmatrix}\n",
    "= \\begin{bmatrix}1 \\\\ 4\\end{bmatrix} \n",
    "\\Rightarrow \\begin{cases}c_1'(0) = 3 \\\\ c_2'(0) = -2 \\end{cases}\n",
    "\\Rightarrow \\begin{cases}3ia_1 - 3ib_1 = 3 \\\\ 2ia_2 - 2i b_2 = -2 \\end{cases}\n",
    "\\Rightarrow \\begin{cases}a_1 - b_1 = -i \\\\ a_2 - b_2 = i \\end{cases}$$\n",
    "Finally\n",
    "$$a_1 = \\frac{1 - i}{2}, b_1 = \\frac{1 + i}{2}, a_2 = \\frac{1 + i}{2}, b_2 = \\frac{1 - i}{2}$$\n",
    "Therefore\n",
    "$$x(t) = \\frac{1 - i}{2}\\cdot e^{3it}x_1 + \\frac{1 + i}{2} \\cdot e^{-3it}x_1 + \\frac{1 + i}{2} \\cdot e^{2it}x_2 + \\frac{1 - i}{2}\\cdot e^{-2it}x_2$$\n"
   ]
  },
  {
   "attachments": {},
   "cell_type": "markdown",
   "metadata": {},
   "source": [
    "### (e)\n",
    "We know that\n",
    "$$\\begin{bmatrix} \\frac{dx}{dt} \\\\ \\frac{d^2}{dt^2} \\end{bmatrix} = B \\begin{bmatrix} x \\\\ \\frac{dx}{dt} \\end{bmatrix}$$\n",
    "Therefore\n",
    "$$\\begin{bmatrix} \\frac{dx}{dt} \\\\ \\frac{d^2}{dt^2} \\end{bmatrix} = \\begin{bmatrix} 0 & I \\\\ A & 0 \\end{bmatrix} \\begin{bmatrix} x \\\\ \\frac{dx}{dt} \\end{bmatrix}$$\n",
    "$$B = \\begin{bmatrix} 0 & 0 & 1 & 0 \\\\ 0 & 0 & 0 & 1 \\\\ 1 & -5 & 0 & 0 \\\\ 10 & 14 & 0 & 0 \\\\ \\end{bmatrix}$$\n",
    "For some eigenvector $y_i$ with eigenvalue $\\lambda'_i$, we know the particular solution is\n",
    "$$y = e^{\\lambda_i t}y_i$$\n",
    "It must correspond to the general solution above, even the basis. \n",
    "Becasue for eigenvector $x_i$ of $A$ with eigenvalue $\\lambda_i$,  \n",
    "$$\\begin{bmatrix} 0 & I \\\\ A & 0 \\end{bmatrix} \\begin{bmatrix} x_i \\\\ \\pm\\sqrt\\lambda_i x_i \\end{bmatrix} = \\begin{bmatrix} \\pm\\sqrt\\lambda_i x_i \\\\ \\lambda_ix_i \\end{bmatrix}$$\n",
    "Therefore $B$ must have eigenvalue of $3i, -3i, 2i, -2i$.  "
   ]
  },
  {
   "attachments": {},
   "cell_type": "markdown",
   "metadata": {},
   "source": [
    "## Problem 4 [8+8]\n",
    "### (a)\n",
    "We just find the null space of $S^T$.  \n",
    "$$S^T = \\begin{bmatrix}-1 & 1 & -1 \\\\ 1 & -2 & 0 \\\\ 0 & -4 & -4 \\\\ 2 & 1 & 5 \\end{bmatrix} \\rightarrow \\begin{bmatrix}-1 & 1 & -1 \\\\ 0 & -1 & -1 \\\\ 0 & -4 & -4 \\\\ 0 & 3 & 3 \\end{bmatrix} \\rightarrow \\begin{bmatrix}-1 & 1 & -1 \\\\ 0 & -1 & -1 \\\\ 0 & 0 & 0 \\\\ 0 & 0 & 0 \\end{bmatrix} \\rightarrow \\begin{bmatrix}1 & 0 & 2 \\\\ 0 & 1 & 1 \\\\ 0 & 0 & 0 \\\\ 0 & 0 & 0 \\end{bmatrix}$$\n",
    "The basis is obvious: $\\left\\{\\begin{bmatrix}-2 \\\\ -1 \\\\ 1\\end{bmatrix}\\right\\}$.  "
   ]
  },
  {
   "attachments": {},
   "cell_type": "markdown",
   "metadata": {},
   "source": [
    "### (b)\n",
    "If $\\vec v$ doesn't depend on $t$, then $\\frac{d(\\vec{v}^T \\vec{x})}{dt} = 0$ is $\\vec v^T$ times $\\frac{d(\\vec{x})}{dt} = 0$. These vectors $\\vec v$ all lie within the **1**-dimensional **null** space of $S$.  \n",
    "Why? Because $\\frac{d(\\vec{x})}{dt}$ is the linear combination of the rows of $S$, and $\\vec v$ is orthogonal to $\\frac{d(\\vec{x})}{dt}$.  We know that the orthogonal complement of the row space is the null space, therefore $\\vec v$ is in the null space of $S$.  "
   ]
  }
 ],
 "metadata": {
  "kernelspec": {
   "display_name": "Julia 1.9.0",
   "language": "julia",
   "name": "julia-1.9"
  },
  "language_info": {
   "name": "julia"
  },
  "orig_nbformat": 4
 },
 "nbformat": 4,
 "nbformat_minor": 2
}
