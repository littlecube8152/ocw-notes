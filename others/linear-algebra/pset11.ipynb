{
 "cells": [
  {
   "attachments": {},
   "cell_type": "markdown",
   "metadata": {},
   "source": [
    "# 18.06 pset 11"
   ]
  },
  {
   "attachments": {},
   "cell_type": "markdown",
   "metadata": {},
   "source": [
    "## Problem 1 [5+5]\n",
    "### (a)\n",
    "Suppose $A^H + A$ is positive-definite, then assume $Ax = \\lambda x$, we know that  \n",
    "$$x^H(A+A^H)x = 2\\lambda x^Hx = 2\\lambda\\|x\\|^2$$\n",
    "Because $A^H + A$ is positive-definite, for any $x$ we also have\n",
    "$$x^H(A+A^H)x > 0$$\n",
    "Therefore $\\lambda > 0$ and $A$ is positive-definite.  "
   ]
  },
  {
   "attachments": {},
   "cell_type": "markdown",
   "metadata": {},
   "source": [
    "### (b)\n",
    "We see that $A^H+A$ is negative-definite. By the proof above, $A$ is negative-definite.  \n",
    "Therefore if we have some eigenvector $x$ with eigenvalue $\\lambda$, we know\n",
    "$$e^Ax = \\left(I + \\frac A {1!} + \\frac {A^2} {2!} + \\cdots \\right)x = \\left(1 + \\frac {\\lambda} {1!} + \\frac {\\lambda^2} {2!} + \\cdots \\right)x = e^\\lambda x$$\n",
    "The eigenvalues are all negative so they are going to decay.  "
   ]
  },
  {
   "attachments": {},
   "cell_type": "markdown",
   "metadata": {},
   "source": [
    "## Problem 2 [5+5]\n",
    "### (a)\n",
    "First we know that, $X, Y, Z, A, B$ must be all full rank.  \n",
    "Since $A, B$ is positive definite, therefore, $Ax = 0x$ has no solution so $A, B$ is full rank.  \n",
    "For any vector $x$, we know\n",
    "$$x^HX^HXx > 0$$\n",
    "since $X^HX$ is positive definite.  \n",
    "By that, we know\n",
    "$$\\|Xx\\|^2 > 0$$\n",
    "Therefore $X$ has a 0-dimensional null space so $X$ is a full rank matrix and the same holds for $Y$ and $Z$.  \n",
    "\n",
    "We construct $Z = \\begin{bmatrix} X \\\\ Y \\end{bmatrix}$.  It is easy to show that $Z^HZ = A + B$.  "
   ]
  },
  {
   "attachments": {},
   "cell_type": "markdown",
   "metadata": {},
   "source": [
    "### (b)\n",
    "Assume that $Ax = \\lambda x$, then  \n",
    "$$Ax = X^HCXx = \\lambda x \\Rightarrow x^HX^HCXx = \\lambda \\|x\\|^2$$\n",
    "We know that $X$ has full rank so $Xx = 0$ if and only if $x = 0$, which is obviously not the case.  \n",
    "Therefore, let $y = Xx$ and $y \\neq 0$.  \n",
    "$$y^HCy > 0 \\Rightarrow \\lambda \\|x\\|^2 > 0 \\Rightarrow \\lambda > 0$$\n",
    "Therefore $A$ is positive-definite.  "
   ]
  },
  {
   "attachments": {},
   "cell_type": "markdown",
   "metadata": {},
   "source": [
    "## Problem 3 [5+5+5+5+5]\n",
    "### (a)\n",
    "By the trace, $6 + (-6) + \\lambda = \\lambda = 7 + -2 + 7 = 12$.  The eigenvalues must be real because $A$ is symmetric.  "
   ]
  },
  {
   "attachments": {},
   "cell_type": "markdown",
   "metadata": {},
   "source": [
    "### (b)\n",
    "The eigenvectors must be orthogonal to one another because $A$ is symmetric.  \n",
    "Therefore, we find the null space of $\\begin{bmatrix}1 & 1 & 1 \\\\ 1 & -2 & 1 \\end{bmatrix}$.  \n",
    "$$\\begin{bmatrix}1 & 1 & 1 \\\\ 1 & -2 & 1 \\end{bmatrix} \\rightarrow \\begin{bmatrix}1 & 1 & 1 \\\\ 0 & -3 & 0 \\end{bmatrix} \\rightarrow \\begin{bmatrix}1 & 0 & 1 \\\\ 0 & 1 & 0 \\end{bmatrix}$$\n",
    "The basis of the null space is $\\begin{bmatrix}-1 \\\\ 0 \\\\ 1\\end{bmatrix}$, which is the third eigenvector."
   ]
  },
  {
   "attachments": {},
   "cell_type": "markdown",
   "metadata": {},
   "source": [
    "### (c)\n",
    "The general solution is \n",
    "$$x(t) = e^{(A-12I)t}x(0)$$\n",
    "and we have\n",
    "$$x(0) = \\begin{bmatrix}1 \\\\ 0 \\\\ 0\\end{bmatrix} = \\frac 1 3\\begin{bmatrix}1 \\\\ 1 \\\\ 1\\end{bmatrix} + \\frac 1 6\\begin{bmatrix}1 \\\\ -2 \\\\ 1\\end{bmatrix} - \\frac 1 2\\begin{bmatrix}-1 \\\\ 0 \\\\ 1\\end{bmatrix}$$\n",
    "Therefore\n",
    "$$x(t) = e^{(A - 12I)t}\\begin{bmatrix}1 \\\\ 0 \\\\ 0\\end{bmatrix} = e^{(6 - 12)t}\\cdot\\frac 1 3\\begin{bmatrix}1 \\\\ 1 \\\\ 1\\end{bmatrix} + e^{(-6 - 12)t}\\cdot\\frac 1 6\\begin{bmatrix}1 \\\\ -2 \\\\ 1\\end{bmatrix} - e^{(12 - 12)t}\\cdot\\frac 1 2\\begin{bmatrix}-1 \\\\ 0 \\\\ 1\\end{bmatrix}$$\n",
    "The first two terms decay while the last term stays the same, thus when $t \\rightarrow \\infty$, $x(t) \\rightarrow -\\dfrac 1 2\\begin{bmatrix}-1 \\\\ 0 \\\\ 1\\end{bmatrix}$ so $x(t)$ is approximately parallel to $\\begin{bmatrix}-1 \\\\ 0 \\\\ 1\\end{bmatrix}$ after a long time."
   ]
  },
  {
   "attachments": {},
   "cell_type": "markdown",
   "metadata": {},
   "source": [
    "### (d)\n",
    "Only a few dot products need to be computed, because the eigenvectors are **orthogonal**.  \n",
    "$$x(t) = \\frac {e^{-6t}} 3\\begin{bmatrix}1 \\\\ 1 \\\\ 1\\end{bmatrix} + \\frac {e^{-18t}} 6\\begin{bmatrix}1 \\\\ -2 \\\\ 1\\end{bmatrix} - \\frac 1 2\\begin{bmatrix}-1 \\\\ 0 \\\\ 1\\end{bmatrix}$$"
   ]
  },
  {
   "attachments": {},
   "cell_type": "markdown",
   "metadata": {},
   "source": [
    "### (e)\n",
    "Let $A - 12I = Q\\Lambda Q^T$ where $Q = \\begin{bmatrix} q_1 & q_2 & q_3 \\end{bmatrix} = \\begin{bmatrix} \\frac{1}{\\sqrt 3} \\cdot 1 & \\frac{1}{\\sqrt 6} \\cdot 1 & \\frac{1}{\\sqrt 2} \\cdot (-1) \\\\ \\frac{1}{\\sqrt 3} \\cdot 1 & \\frac{1}{\\sqrt 6} \\cdot (-2) & \\frac{1}{\\sqrt 2} \\cdot 0 \\\\ \\frac{1}{\\sqrt 3} \\cdot 1 & \\frac{1}{\\sqrt 6} \\cdot 1 & \\frac{1}{\\sqrt 2} \\cdot 1 \\end{bmatrix}$ is a orthogonal matrix.  \n",
    "$$e^{(A-12I)t} = Q e^{\\Lambda t} Q^T = Q \\begin{bmatrix} e^{-6t} \\\\ & e^{-18t} \\\\ && 1 \\end{bmatrix}Q^T$$\n",
    "$$\\lim_{t \\rightarrow \\infty} e^{(A-12I)t} = Q \\begin{bmatrix} 0 \\\\ & 0 \\\\ && 1 \\end{bmatrix}Q^T = Q\\begin{bmatrix} 0 & 0 & 0 \\\\ 0 & 0 & 0 \\\\ & q_3^T \\end{bmatrix}$$\n",
    "It is only taking the third column, therefore we can rewrite as\n",
    "$$P = q_3q_3^T = \\frac{1}{2}\\begin{bmatrix} 1 & 0 & -1 \\\\ 0 & 0 & 0 \\\\ -1 & 0 & 1 \\end{bmatrix}$$"
   ]
  },
  {
   "attachments": {},
   "cell_type": "markdown",
   "metadata": {},
   "source": [
    "## Problem 4 [5+5+5+5]\n",
    "### (a)\n",
    "We rewrite the equation:\n",
    "$$2I(x^{(n+1)}-x^{(n)}) = -A(x^{(n+1)}+x^{(n)})$$\n",
    "$$(2I+A)x^{(n+1)} = (2I-A)x^{(n)}$$\n",
    "$$x^{(n+1)} = (2I+A)^{-1}(2I-A)x^{(n)}$$"
   ]
  },
  {
   "attachments": {},
   "cell_type": "markdown",
   "metadata": {},
   "source": [
    "### (b)\n",
    "If $2I+A$ is not invertible, then $\\det(A + 2I) = 0$ and $-2$ is an eigenvalue of $A$. But $A$ is positive definite so its eigenvalue must be positive, which means that $\\det(A + 2I) \\neq 0$ so $A+2I$ is invertible."
   ]
  },
  {
   "attachments": {},
   "cell_type": "markdown",
   "metadata": {},
   "source": [
    "### (c)\n",
    "For some eigenvector $x$ satisfying $Ax = 17x$, we also have\n",
    "$$(2I - A)x = (2 - 17)x$$\n",
    "$$(2I + A)x = (2 + 17)x \\Rightarrow  \\frac{1}{2 + 17} \\cdot x= (2I + A)^{-1}x$$\n",
    "Therefore $$(2I + A)^{-1}(2I - A)x = -\\frac{15}{19}x$$\n",
    "and one of the eigenvalues is $-\\frac{15}{19}$.  "
   ]
  },
  {
   "attachments": {},
   "cell_type": "markdown",
   "metadata": {},
   "source": [
    "### (e)\n",
    "From the procedure in (d), we know that if $A$ has some eigenvalue $\\lambda$, then $(2I + A)^{-1}(2I - A)$ has a eigenvalue of $-\\dfrac{\\lambda - 2}{\\lambda + 2}$.\n",
    "When $\\lambda > 0$, $\\left| -\\dfrac{\\lambda - 2}{\\lambda + 2} \\right| < 1$ so $x^{(n)}$ is going to decay.  "
   ]
  }
 ],
 "metadata": {
  "kernelspec": {
   "display_name": "Julia 1.9.0",
   "language": "julia",
   "name": "julia-1.9"
  },
  "language_info": {
   "file_extension": ".jl",
   "mimetype": "application/julia",
   "name": "julia",
   "version": "1.9.0"
  },
  "orig_nbformat": 4
 },
 "nbformat": 4,
 "nbformat_minor": 2
}
