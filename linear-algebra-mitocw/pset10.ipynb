{
 "cells": [
  {
   "attachments": {},
   "cell_type": "markdown",
   "metadata": {},
   "source": [
    "# 18.06 Problem Set 10"
   ]
  },
  {
   "attachments": {},
   "cell_type": "markdown",
   "metadata": {},
   "source": [
    "## Problem 1 [5+5+5+5]\n",
    "### (a)\n",
    "Let $\\vec y = \\begin{bmatrix} 1 & 0 \\\\ 0 & \\sqrt\\frac{m}{k}\\end{bmatrix}\\vec x$, then  \n",
    "$$\\frac{d\\vec y}{dt} = \\begin{bmatrix} 1 & 0 \\\\ 0 & \\sqrt\\frac{m}{k}\\end{bmatrix}\\frac{d\\vec x}{dt} = \\begin{bmatrix} 0 & 1 \\\\ -\\sqrt\\frac{k}{m} & 0 \\end{bmatrix}\\vec x = \\begin{bmatrix} 0 & 1 \\\\ -1 & 0 \\end{bmatrix}\\vec y$$\n",
    "We know that $B = DAD^{-1}$ so $B$ is similar to $A$.  "
   ]
  },
  {
   "attachments": {},
   "cell_type": "markdown",
   "metadata": {},
   "source": [
    "### (b)\n",
    "For any anti-Hermitian $B =-B^H$, the matrix $iB$ is a Hermitian matrix because, assuming that $a_{i, j} = a + bi$ and $a_{j, i} = -a + bi$,  \n",
    "$$i(a + bi) = ai - b = \\overline{- ai - b} = \\overline{i(-a + bi)}$$\n",
    "Therefore $iB = (iB)^H$.  \n",
    "Since Hermitian matrices have real eigenvalues, suppose that $(iB)x = \\lambda x$, then $Bx = (-i\\lambda)x$ and $B$ has purely imaginary eigenvalues.  Hence the solutions $\\vec y$ of $\\frac{d\\vec y}{dx} = B\\vec y$ is ocillating.  "
   ]
  },
  {
   "attachments": {},
   "cell_type": "markdown",
   "metadata": {},
   "source": [
    "### (c)\n",
    "For any anti-Hermitian matrices $B = -B^H$, the matrix $Q = e^{Bt}$ has the property of\n",
    "$$Q^HQ = (e^{Bt})^He^{Bt} = e^{B^Ht}e^{Bt} = e^{-Bt}e^{Bt}$$\n",
    "Expand those by Taylor Series, we want to show for every integer $n \\geq 1$,  \n",
    "$$\\sum_{i = 0}^{n}\\frac{(-1)^i(Bt)^i}{i!} \\cdot \\frac{(Bt)^{n - i}}{(n - i)!} = \\mathbf 0$$\n",
    "Take the common factor of $(Bt)^n$ from the expression, and multiply by $n!$:\n",
    "$$\\sum_{i = 0}^{n}\\frac{(-1)^i(Bt)^i}{i!} \\cdot \\frac{(Bt)^{n - i}}{(n - i)!} = \\frac{(Bt)^n}{n!}\\sum_{i = 0}^{n}(-1)^i\\frac{n!}{i!(n - i)!}$$\n",
    "By the Binomial Expansion, we know that this is equal to\n",
    "$$\\frac{(Bt)^n}{n!} (1 - 1)^n = \\mathbf 0$$\n",
    "Therefore,  \n",
    "$$Q^HQ = e^{-Bt}e^{Bt} = \\left(I + \\frac{-(Bt)}{1!} + \\frac{(-Bt)^2}{2!} + \\cdots\\right)\\left(I + \\frac{Bt}{1!} + \\frac{(Bt)^2}{2!} + \\cdots\\right) = I$$  \n",
    "so $Q$ is unitary.  "
   ]
  },
  {
   "attachments": {},
   "cell_type": "markdown",
   "metadata": {},
   "source": [
    "### (d)\n",
    "Take the norm of the both sides:\n",
    "$$\\|\\vec y(t)\\| = \\|e^{Bt}\\vec y(0)\\| = \\|\\vec y(0)\\|$$\n",
    "$$\\left\\|\\begin{bmatrix} 1 & 0 \\\\ 0 & \\sqrt\\frac{m}{k}\\end{bmatrix}\\begin{bmatrix}x(t) \\\\ v(t)\\end{bmatrix}\\right\\| = \\left\\|\\begin{bmatrix} 1 & 0 \\\\ 0 & \\sqrt\\frac{m}{k}\\end{bmatrix}\\begin{bmatrix}x(0) \\\\ v(0)\\end{bmatrix}\\right\\|$$\n",
    "$$\\left\\|\\begin{bmatrix}x(t) \\\\ \\sqrt\\frac{m}{k}v(t)\\end{bmatrix}\\right\\| = \\left\\|\\begin{bmatrix}x(0) \\\\ \\sqrt\\frac{m}{k}v(0)\\end{bmatrix}\\right\\|$$\n",
    "$$x(t)^2 + \\frac{m}{k}v(t)^2 = x(0)^2 + \\frac{m}{k}v(0)^2 \\Rightarrow \\frac{1}{2}kx(t)^2 + \\frac{1}{2}mv(t)^2 = \\frac{1}{2}kx(0)^2 + \\frac{1}{2}mv(0)^2$$\n",
    "Therefore no matter what $t$ is, the energy $\\frac{1}{2}kx(t)^2 + \\frac{1}{2}mv(t)^2$ is always the same as the initial state.  "
   ]
  },
  {
   "attachments": {},
   "cell_type": "markdown",
   "metadata": {},
   "source": [
    "## Problem 2 [10+5]\n",
    "### (a)\n",
    "$$e^{At} \\approx I + \\frac{At}{1!} + \\frac{(At)^2}{2!} + \\frac{(At)^3}{3!} + \\frac{(At)^4}{4!}$$\n",
    "$$\\frac{d}{dt}e^{At} \\approx \\frac{1A}{1!} + \\frac{2A^2t}{2!} + \\frac{3A^3t^2}{3!} + \\frac{4A^4t^3}{4!} = \\frac{A}{0!} + \\frac{A^2t}{1!} + \\frac{A^3t^2}{2!} + \\frac{3A^4t^3}{3!} \\approx Ae^{At}$$"
   ]
  },
  {
   "attachments": {},
   "cell_type": "markdown",
   "metadata": {},
   "source": [
    "### (b)\n",
    "$$e^A \\approx I + \\frac{A}{1!} + \\frac{A^2}{2!} + \\frac{A^3}{3!} + \\frac{A^4}{4!}$$\n",
    "$$\\begin{align*} \n",
    "e^{A + dA} \n",
    "& \\approx I \\\\\n",
    "& + \\frac{A + dA}{1!} \\\\\n",
    "& + \\frac{A^2 + AdA + dAA + dA^2}{2!} \\\\\n",
    "& + \\frac{A^3 + A^2dA + AdAA + dAA^2 + \\cdots}{3!} \\\\ \n",
    "& + \\frac{A^4 + A^3dA + A^2dAA + AdAA^2 + dAA^3 + \\cdots}{4!}\\end{align*}$$\n",
    "Therefore \n",
    "$$\\begin{align*} \n",
    "e^{A + dA} - e^{A}  \n",
    "& \\approx \\frac{dA}{1!} \\\\\n",
    "& + \\frac{AdA + dAA}{2!} \\\\\n",
    "& + \\frac{A^2dA + AdAA + dAA^2}{3!} \\\\ \n",
    "& + \\frac{A^3dA + A^2dAA + AdAA^2 + dAA^3}{4!}\\end{align*}$$\n",
    "\n",
    "We can change the order if and only if $A$ and $dA$ is commutable.  "
   ]
  },
  {
   "attachments": {},
   "cell_type": "markdown",
   "metadata": {},
   "source": [
    "## Problem 3 [5+5+5+5+5]\n",
    "### (a)\n",
    "Two special solutions are $y(t) = e^{3it}y(0)$ and $y(t) = e^{-3it}y(0)$.  \n",
    "\n",
    "Assume that $y(t) = (ae^{3it} + be^{-3it})y(0)$.  \n",
    "$y(t) = (ae^{3it} + be^{-3it})y(0)$.  Since $y(0) = 3$,  \n",
    "$$(ae^0 + be^0)\\cdot 3 = 3 \\Rightarrow a + b = 1$$\n",
    "$y'(t) = (3aie^{3it} - 3bie^{-3it})\\cdot 3$. Since $y'(0) = 0$, \n",
    "$$(3aie^{0} - 3bie^{0})\\cdot 3 = 0 \\Rightarrow a = b$$\n",
    "Therefore $a = b = \\frac 1 2$ and the solution to $d^2y/dt^2 = -9y$ with $y(0) = 3, y'(0) = 0$ is $y(t) = \\frac 3 2 e^{3it} + \\frac 3 2 e^{-3it}$."
   ]
  },
  {
   "attachments": {},
   "cell_type": "markdown",
   "metadata": {},
   "source": [
    "### (b)\n",
    "$$A - \\lambda I = \\begin{bmatrix} 1 - \\lambda & -5 \\\\ 10 & -14 - \\lambda \\end{bmatrix} \\Rightarrow (1 - \\lambda)(-14 - \\lambda) - (-5)\\times 10 = 0 \\Rightarrow \\lambda^2 + 13 \\lambda + 36 = 0 \\Rightarrow \\lambda_1 = -9, \\lambda_2 = -4$$"
   ]
  },
  {
   "attachments": {},
   "cell_type": "markdown",
   "metadata": {},
   "source": []
  }
 ],
 "metadata": {
  "kernelspec": {
   "display_name": "Julia 1.9.0",
   "language": "julia",
   "name": "julia-1.9"
  },
  "language_info": {
   "name": "julia"
  },
  "orig_nbformat": 4
 },
 "nbformat": 4,
 "nbformat_minor": 2
}
