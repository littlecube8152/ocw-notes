{
 "cells": [
  {
   "attachments": {},
   "cell_type": "markdown",
   "metadata": {},
   "source": [
    "# 18.06 Problem Set 4"
   ]
  },
  {
   "attachments": {},
   "cell_type": "markdown",
   "metadata": {},
   "source": [
    "## Problem 1 [10+5]\n",
    "### (a)\n",
    "Compute $\\alpha$.  \n",
    "$$\\alpha = a^T (y x^T + x y^T) b = a^T y x^T b + a^T x y^T b = (a^T y) x^T b + a^T x (y^T b)$$\n",
    "Since $x^T y = y^T x$, \n",
    "$$\\alpha = (a^T y) x^T b + a^T x (y^T b) = (a^T y) b^T x + (y^T b) a^T x = (a^T y b + y^T b a)^T x$$"
   ]
  },
  {
   "attachments": {},
   "cell_type": "markdown",
   "metadata": {},
   "source": [
    "### (b)"
   ]
  },
  {
   "cell_type": "code",
   "execution_count": 4,
   "metadata": {},
   "outputs": [
    {
     "data": {
      "text/plain": [
       "true"
      ]
     },
     "execution_count": 4,
     "metadata": {},
     "output_type": "execute_result"
    }
   ],
   "source": [
    "a = [1,2,4,3]\n",
    "b = [9,-2,4,5]\n",
    "y = [0,-1,3,1]\n",
    "x = [-3,100,4,-5]\n",
    "\n",
    "α = a' * (y * x' + x * y') * b # write aᵀ(yxᵀ+xyᵀ)b in Julia\n",
    "c = (a' * y * b + y' * b * a) # some formula in terms of a, b, y\n",
    "\n",
    "# this should output \"true\":\n",
    "c' * x ≈ α"
   ]
  },
  {
   "attachments": {},
   "cell_type": "markdown",
   "metadata": {},
   "source": [
    "## Problem 2 [10+10+5]\n",
    "### (a)\n",
    "1. $d(\\sqrt \\alpha) = \\dfrac{1}{2\\sqrt \\alpha} d\\alpha$\n",
    "2. $d\\|y\\| = d\\sqrt{y^Ty} = \\dfrac{1}{2\\sqrt{y^Ty}} d(y^Ty) = \\dfrac{y^T}{\\sqrt{y^Ty}}dy$\n",
    "3. $d(xx^T) = dx x^T + x d(x^T) = dx x^T + x (dx)^T$\n",
    "4. $d((B+xx^T)^{-1}b) = d((B+xx^T)^{-1})b = -(B+xx^T)^{-1}d(B+xx^T)(B+xx^T)^{-1}b = -(B+xx^T)^{-1}(dx x^T + x (dx)^T)(B+xx^T)^{-1}b$\n",
    "5. \n",
    "$$\\begin{align*}\n",
    "df & = d(\\|(B+xx^T)^{-1}b\\|) \\\\ \n",
    "& = \\dfrac{((B+xx^T)^{-1}b)^T}{\\|(B+xx^T)^{-1}b\\|}d(B+xx^T)^{-1}b) \\\\\n",
    "& = -\\dfrac{((B+xx^T)^{-1}b)^T}{\\|(B+xx^T)^{-1}b\\|}(B+xx^T)^{-1}(dx x^T + x(dx)^T)(B+xx^T)^{-1}b \\\\\n",
    "\\end{align*}$$"
   ]
  },
  {
   "attachments": {},
   "cell_type": "markdown",
   "metadata": {},
   "source": [
    "### (b)\n",
    "The idea is to move all terms from the right of $dx$ to the left, and all terms from the left of $(dx)^T$ to the right.  \n",
    "Let $A = B + xx^T$.  \n",
    "$$df = -\\dfrac{(A^{-1}b)^T}{\\|A^{-1}b\\|}A^{-1}(dx x^T + x(dx)^T)A^{-1}b = -\\dfrac{(A^{-1}b)^T}{\\|A^{-1}b\\|}A^{-1}dx x^TA^{-1}b -\\dfrac{(A^{-1}b)^T}{\\|A^{-1}b\\|}A^{-1}x(dx)^TA^{-1}b$$\n",
    "Since $x^TA^{-1}b$ is a scalar,  \n",
    "$$-\\dfrac{(A^{-1}b)^T}{\\|A^{-1}b\\|}A^{-1}dx x^TA^{-1}b = -\\dfrac{(A^{-1}b)^T}{\\|A^{-1}b\\|}A^{-1}(x^TA^{-1}b)dx$$\n",
    "and $(A^{-1}b)^TA^{-1}x$ is a scalar,  \n",
    "$$-\\dfrac{(A^{-1}b)^T}{\\|A^{-1}b\\|}A^{-1}x(dx)^TA^{-1}b = -(dx)^T\\dfrac{((A^{-1}b)^TA^{-1}x)}{\\|A^{-1}b\\|}A^{-1}b$$\n",
    "Using $x^Ty = y^Tx$ we can finally obtain  \n",
    "$$-(dx)^T\\dfrac{((A^{-1}b)^TA^{-1}x)}{\\|A^{-1}b\\|}A^{-1}b = -\\left(\\dfrac{((A^{-1}b)^TA^{-1}x)}{\\|A^{-1}b\\|}A^{-1}b\\right)^T dx$$\n",
    "Therefore  \n",
    "$$df = -\\left((x^TA^{-1}b)(A^{-1})^T\\dfrac{(A^{-1}b)}{\\|A^{-1}b\\|} + \\dfrac{((A^{-1}b)^TA^{-1}x)}{\\|A^{-1}b\\|}A^{-1}b\\right)^Tdx$$\n",
    "$$\\nabla f = -\\left((x^TA^{-1}b)(A^{-1})^T + ((A^{-1}b)^TA^{-1}x)\\right)\\dfrac{(A^{-1}b)}{\\|A^{-1}b\\|}$$"
   ]
  },
  {
   "attachments": {},
   "cell_type": "markdown",
   "metadata": {},
   "source": [
    "### (c)"
   ]
  },
  {
   "cell_type": "code",
   "execution_count": 11,
   "metadata": {},
   "outputs": [
    {
     "data": {
      "text/plain": [
       "-6.29624281600627e-8"
      ]
     },
     "execution_count": 11,
     "metadata": {},
     "output_type": "execute_result"
    }
   ],
   "source": [
    "using LinearAlgebra\n",
    "\n",
    "# some B matrix and b vector\n",
    "B = [3   5   6  6\n",
    "     2  -2  -5  8\n",
    "     4   3   2  2\n",
    "     5  -8  -1  3]\n",
    "b = [1,-1,2,-2]\n",
    "\n",
    "f(x) = norm((B + x*x') \\ b) # = ‖(B+xxᵀ)⁻¹b‖\n",
    "\n",
    "# random test inputs:\n",
    "x = [1,-2,4,6]\n",
    "dx = [3,2,1,1] * 1e-10 # a small change in x\n",
    "\n",
    "f(x + dx) - f(x)"
   ]
  },
  {
   "cell_type": "code",
   "execution_count": 12,
   "metadata": {},
   "outputs": [
    {
     "data": {
      "text/plain": [
       "-6.296248681548717e-8"
      ]
     },
     "execution_count": 12,
     "metadata": {},
     "output_type": "execute_result"
    }
   ],
   "source": [
    "A = B + x*x'\n",
    "∇f = -((x' * A^-1 * b) * (A^-1)' * (A^-1) * b / norm(A \\ b) + ((A^-1 * b)' * A^-1 * x) / norm(A \\ b) * A^-1 * b) # your formula from (a)\n",
    "\n",
    "# this should match f(x+dx)-f(x) above,\n",
    "# at least to a few digits:\n",
    "df = ∇f'*dx"
   ]
  },
  {
   "attachments": {},
   "cell_type": "markdown",
   "metadata": {},
   "source": [
    "## Problem 3 [10+5+5+5]\n",
    "### (a)  \n",
    "Take the partial derivative of $x_1$:\n",
    "$$\\begin{align*}\n",
    "\\frac{\\partial g}{\\partial x_1} & = \\frac{\\partial}{\\partial x_1}\\left(\\begin{bmatrix}x_1 \\\\ & x_2 \\\\ && x_3 \\end{bmatrix}\\begin{bmatrix}3 & 1 & 2 \\\\ 7 & 3 & -2 \\\\ -2 & -5 & -4\\end{bmatrix}x + x - \\begin{bmatrix}1 \\\\ 1 \\\\ 1\\end{bmatrix}\\right)\\\\\n",
    "& = \\frac{\\partial}{\\partial x_1}\\left(\\begin{bmatrix}x_1 \\\\ & x_2 \\\\ && x_3 \\end{bmatrix}\\right)\\begin{bmatrix}3 & 1 & 2 \\\\ 7 & 3 & -2 \\\\ -2 & -5 & -4\\end{bmatrix}x + \\begin{bmatrix}x_1 \\\\ & x_2 \\\\ && x_3 \\end{bmatrix}\\begin{bmatrix}3 & 1 & 2 \\\\ 7 & 3 & -2 \\\\ -2 & -5 & -4\\end{bmatrix}\\frac{\\partial}{\\partial x_1}x + \\frac{\\partial}{\\partial x_1}x - \\frac{\\partial}{\\partial x_1}\\begin{bmatrix}1 \\\\ 1 \\\\ 1\\end{bmatrix} \\\\\n",
    "& = \\begin{bmatrix}1 \\\\ & 0 \\\\ && 0 \\end{bmatrix}\\begin{bmatrix}3 & 1 & 2 \\\\ 7 & 3 & -2 \\\\ -2 & -5 & -4\\end{bmatrix}x + \\begin{bmatrix}x_1 \\\\ & x_2 \\\\ && x_3 \\end{bmatrix}\\begin{bmatrix}3 & 1 & 2 \\\\ 7 & 3 & -2 \\\\ -2 & -5 & -4\\end{bmatrix}\\begin{bmatrix}1 \\\\ 0 \\\\ 0\\end{bmatrix} + \\begin{bmatrix}1 \\\\ 0 \\\\ 0\\end{bmatrix} \\\\\n",
    "& = \\begin{bmatrix}3x_1 + x_2 + 2x_3 \\\\ 0 \\\\ 0\\end{bmatrix} + \\begin{bmatrix}3x_1 \\\\ 7x_2 \\\\ -2x_3 \\end{bmatrix} + \\begin{bmatrix}1 \\\\ 0 \\\\ 0\\end{bmatrix} \\\\ \n",
    "& = \\begin{bmatrix} 6x_1 + x_2 + 2x_3 + 1 \\\\ 7x_2 \\\\ -2x_3 \\end{bmatrix}\\\\\n",
    "\\end{align*}$$\n",
    "Take the partial derivative of $x_2$:\n",
    "$$\\begin{align*}\n",
    "\\frac{\\partial g}{\\partial x_2} & = \\frac{\\partial}{\\partial x_2}\\left(\\begin{bmatrix}x_1 \\\\ & x_2 \\\\ && x_3 \\end{bmatrix}\\begin{bmatrix}3 & 1 & 2 \\\\ 7 & 3 & -2 \\\\ -2 & -5 & -4\\end{bmatrix}x + x - \\begin{bmatrix}1 \\\\ 1 \\\\ 1\\end{bmatrix}\\right)\\\\\n",
    "& = \\frac{\\partial}{\\partial x_2}\\left(\\begin{bmatrix}x_1 \\\\ & x_2 \\\\ && x_3 \\end{bmatrix}\\right)\\begin{bmatrix}3 & 1 & 2 \\\\ 7 & 3 & -2 \\\\ -2 & -5 & -4\\end{bmatrix}x + \\begin{bmatrix}x_1 \\\\ & x_2 \\\\ && x_3 \\end{bmatrix}\\begin{bmatrix}3 & 1 & 2 \\\\ 7 & 3 & -2 \\\\ -2 & -5 & -4\\end{bmatrix}\\frac{\\partial}{\\partial x_2}x + \\frac{\\partial}{\\partial x_2}x - \\frac{\\partial}{\\partial x_2}\\begin{bmatrix}1 \\\\ 1 \\\\ 1\\end{bmatrix} \\\\\n",
    "& = \\begin{bmatrix}0 \\\\ & 1 \\\\ && 0 \\end{bmatrix}\\begin{bmatrix}3 & 1 & 2 \\\\ 7 & 3 & -2 \\\\ -2 & -5 & -4\\end{bmatrix}x + \\begin{bmatrix}x_1 \\\\ & x_2 \\\\ && x_3 \\end{bmatrix}\\begin{bmatrix}3 & 1 & 2 \\\\ 7 & 3 & -2 \\\\ -2 & -5 & -4\\end{bmatrix}\\begin{bmatrix}0 \\\\ 1 \\\\ 0\\end{bmatrix} + \\begin{bmatrix}0 \\\\ 1 \\\\ 0\\end{bmatrix} \\\\\n",
    "& = \\begin{bmatrix} 0 \\\\ 7x_1 + 3x_2 - 2x_3 \\\\ 0 \\end{bmatrix} + \\begin{bmatrix} x_1 \\\\ 3x_2 \\\\ -5x_3 \\end{bmatrix} + \\begin{bmatrix}0 \\\\ 1 \\\\ 0\\end{bmatrix} \\\\ \n",
    "& = \\begin{bmatrix} x_1 \\\\ 7x_1 + 6x_2 - 2x_3 + 1 \\\\ -5x_3 \\end{bmatrix}\\\\\n",
    "\\end{align*}$$\n",
    "Take the partial derivative of $x_3$:\n",
    "$$\\begin{align*}\n",
    "\\frac{\\partial g}{\\partial x_3} & = \\frac{\\partial}{\\partial x_3}\\left(\\begin{bmatrix}x_1 \\\\ & x_2 \\\\ && x_3 \\end{bmatrix}\\begin{bmatrix}3 & 1 & 2 \\\\ 7 & 3 & -2 \\\\ -2 & -5 & -4\\end{bmatrix}x + x - \\begin{bmatrix}1 \\\\ 1 \\\\ 1\\end{bmatrix}\\right)\\\\\n",
    "& = \\frac{\\partial}{\\partial x_3}\\left(\\begin{bmatrix}x_1 \\\\ & x_2 \\\\ && x_3 \\end{bmatrix}\\right)\\begin{bmatrix}3 & 1 & 2 \\\\ 7 & 3 & -2 \\\\ -2 & -5 & -4\\end{bmatrix}x + \\begin{bmatrix}x_1 \\\\ & x_2 \\\\ && x_3 \\end{bmatrix}\\begin{bmatrix}3 & 1 & 2 \\\\ 7 & 3 & -2 \\\\ -2 & -5 & -4\\end{bmatrix}\\frac{\\partial}{\\partial x_3}x + \\frac{\\partial}{\\partial x_3}x - \\frac{\\partial}{\\partial x_3}\\begin{bmatrix}1 \\\\ 1 \\\\ 1\\end{bmatrix} \\\\\n",
    "& = \\begin{bmatrix}0 \\\\ & 0 \\\\ && 1\\end{bmatrix}\\begin{bmatrix}3 & 1 & 2 \\\\ 7 & 3 & -2 \\\\ -2 & -5 & -4\\end{bmatrix}x + \\begin{bmatrix}x_1 \\\\ & x_2 \\\\ && x_3 \\end{bmatrix}\\begin{bmatrix}3 & 1 & 2 \\\\ 7 & 3 & -2 \\\\ -2 & -5 & -4\\end{bmatrix}\\begin{bmatrix}0 \\\\ 0 \\\\ 1\\end{bmatrix} + \\begin{bmatrix}0 \\\\ 0 \\\\ 1\\end{bmatrix} \\\\\n",
    "& = \\begin{bmatrix}0 \\\\ 0 \\\\ -2x_1 -5x_2 - 4x_3\\end{bmatrix} + \\begin{bmatrix}2x_1 \\\\ -2x_2 \\\\ -4x_3 \\end{bmatrix} + \\begin{bmatrix}0 \\\\ 0 \\\\ 1\\end{bmatrix} \\\\ \n",
    "& = \\begin{bmatrix} 2x_1 \\\\ -2x_2 \\\\ -2x_1 -5x_2 -8x_3 + 1 \\end{bmatrix}\\\\\n",
    "\\end{align*}$$\n",
    "\n",
    "Therefore $$J = \\begin{bmatrix} 6x_1 + x_2 + 2x_3 + 1 & x_1 & 2x_1 \\\\ 7x_2 & 7x_1 + 6x_2 - 2x_3 + 1 & -2x_2 \\\\ -2x_3 & -5x_3 & -2x_1 -5x_2 -8x_3 + 1 \\end{bmatrix}$$"
   ]
  },
  {
   "attachments": {},
   "cell_type": "markdown",
   "metadata": {},
   "source": [
    "### (b)"
   ]
  },
  {
   "cell_type": "code",
   "execution_count": 14,
   "metadata": {},
   "outputs": [
    {
     "data": {
      "text/plain": [
       "3×3 Matrix{Int64}:\n",
       " 15    1   2\n",
       " 14   14  -4\n",
       " -6  -15  13"
      ]
     },
     "execution_count": 14,
     "metadata": {},
     "output_type": "execute_result"
    }
   ],
   "source": [
    "using LinearAlgebra\n",
    "\n",
    "A₀ = [3 1 2; 7 3 -2; -2 -5 4]\n",
    "\n",
    "g(x) = Diagonal(x) * (A₀*x) + x .- 1\n",
    "\n",
    "J(x) = Diagonal(A₀ * x) + Diagonal(x) * A₀ + I # your answer from (b)\n",
    "\n",
    "J([1,2,3]) # try it — this should give a 3x3 matrix"
   ]
  },
  {
   "attachments": {},
   "cell_type": "markdown",
   "metadata": {},
   "source": [
    "### (c)"
   ]
  },
  {
   "cell_type": "code",
   "execution_count": 15,
   "metadata": {},
   "outputs": [
    {
     "data": {
      "text/plain": [
       "3-element Vector{Float64}:\n",
       " -1.3061096626465485e-7\n",
       " -4.344677417833509e-7\n",
       "  1.214222851153579e-7"
      ]
     },
     "execution_count": 15,
     "metadata": {},
     "output_type": "execute_result"
    }
   ],
   "source": [
    "x = randn(3)\n",
    "dx = randn(3) * 1e-8\n",
    "\n",
    "g(x+dx) - g(x)"
   ]
  },
  {
   "cell_type": "code",
   "execution_count": 16,
   "metadata": {},
   "outputs": [
    {
     "data": {
      "text/plain": [
       "3-element Vector{Float64}:\n",
       " -1.3061096934547348e-7\n",
       " -4.34467750903827e-7\n",
       "  1.2142228560054902e-7"
      ]
     },
     "execution_count": 16,
     "metadata": {},
     "output_type": "execute_result"
    }
   ],
   "source": [
    "J(x) * dx # this should match g(x+dx) - g(x) to a few digits"
   ]
  },
  {
   "attachments": {},
   "cell_type": "markdown",
   "metadata": {},
   "source": [
    "### (d)"
   ]
  },
  {
   "cell_type": "code",
   "execution_count": 19,
   "metadata": {},
   "outputs": [
    {
     "name": "stdout",
     "output_type": "stream",
     "text": [
      "x = [0.2755080822002063, 0.37873548830102655, 0.7121989245287168]\n",
      "g(x) = [0.0, -1.1102230246251565e-16, 2.220446049250313e-16]\n"
     ]
    },
    {
     "data": {
      "text/plain": [
       "3-element Vector{Float64}:\n",
       "  0.0\n",
       " -1.1102230246251565e-16\n",
       "  2.220446049250313e-16"
      ]
     },
     "execution_count": 19,
     "metadata": {},
     "output_type": "execute_result"
    }
   ],
   "source": [
    "x = [1,1,1] # initial guess\n",
    "\n",
    "# run 10 iterations of Newton's method\n",
    "for i = 1:50\n",
    "    # show some output:\n",
    "    # @show x\n",
    "    # @show g(x)\n",
    "    # println()\n",
    "    x = x - J(x) \\ g(x)\n",
    "end\n",
    "\n",
    "@show x\n",
    "@show g(x)"
   ]
  },
  {
   "attachments": {},
   "cell_type": "markdown",
   "metadata": {},
   "source": [
    "## Problem 4 [10+5]\n",
    "### (a)\n",
    "$$A^T = \\begin{bmatrix}1 & 1 & 0 \\\\ 2 & 2 & 0 \\\\ 3 & 4 & 1 \\\\ 4 & 6 & 2 \\end{bmatrix}$$\n",
    "We are going to solve $A^Tx = \\mathbf 0$, so we apply elimination.  \n",
    "$$\\begin{bmatrix}1 & 1 & 0 \\\\ 2 & 2 & 0 \\\\ 3 & 4 & 1 \\\\ 4 & 6 & 2 \\end{bmatrix} \\rightarrow \\begin{bmatrix}1 & 1 & 0 \\\\ 0 & 0 & 0 \\\\ 0 & 1 & 1 \\\\ 0 & 2 & 2 \\end{bmatrix} \\rightarrow \\begin{bmatrix}1 & 0 & -1 \\\\ 0 & 0 & 0 \\\\ 0 & 1 & 1 \\\\ 0 & 0 & 0 \\end{bmatrix}$$\n",
    "There is only one free column and its correspond special solution is\n",
    "$$\\begin{bmatrix}1 \\\\ -1 \\\\ 1\\end{bmatrix}$$\n",
    "which is also the basis pf $N(A^T)$.  "
   ]
  },
  {
   "attachments": {},
   "cell_type": "markdown",
   "metadata": {},
   "source": [
    "### (b)\n",
    "$$b^T\\begin{bmatrix}1 \\\\ -1 \\\\ 1\\end{bmatrix} = \\alpha - 6 + 1$$\n",
    "If $b$ is orthogonal to $N(A^T)$, then $\\alpha - 6 + 1 = 0 \\Rightarrow \\alpha = 5$.  "
   ]
  },
  {
   "attachments": {},
   "cell_type": "markdown",
   "metadata": {},
   "source": [
    "## Problem 5 [10]\n",
    "Since row space is orthogonal to the null space, the answer is equal to the matrix whose row space is $S$, which is"
   ]
  }
 ],
 "metadata": {
  "kernelspec": {
   "display_name": "Julia 1.9.0",
   "language": "julia",
   "name": "julia-1.9"
  },
  "language_info": {
   "file_extension": ".jl",
   "mimetype": "application/julia",
   "name": "julia",
   "version": "1.9.0"
  },
  "orig_nbformat": 4
 },
 "nbformat": 4,
 "nbformat_minor": 2
}
