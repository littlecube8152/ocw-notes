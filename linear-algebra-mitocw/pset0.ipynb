{
 "cells": [
  {
   "cell_type": "markdown",
   "metadata": {},
   "source": [
    "# 18.06 problem set 0: Warm-ups\n",
    "## Problem 1\n",
    "1. $3 \\times 2$ matrix\n",
    "2. nonsense\n",
    "3. 3-component column vector\n",
    "4. nonsense\n",
    "5. nonsense\n",
    "6. $1 \\times 1$ matrix\n",
    "7. nonsense\n",
    "8. $2 \\times 3$ matrix\n",
    "9. nonsense\n",
    "10. $3 \\times 3$ matrix\n",
    "11. nonsense\n",
    "12. nonsense \n",
    "13. nonsense"
   ]
  },
  {
   "cell_type": "markdown",
   "metadata": {},
   "source": [
    "## Problem 2\n",
    "Suppose $Ax = b$ has two solutions $x_0$ and $x_1$, then $\\frac{1}{2}(x_0 + x_1)$ is always another solution. (Assume $\\frac{1}{2}(x_0 + x_1) = x_0$, then we know that $x_0 = x_1$ and contradicts our assumpution.)"
   ]
  },
  {
   "cell_type": "markdown",
   "metadata": {},
   "source": [
    "## Problem 3"
   ]
  },
  {
   "cell_type": "code",
   "execution_count": 2,
   "metadata": {},
   "outputs": [
    {
     "data": {
      "text/plain": [
       "3×3 Matrix{Int64}:\n",
       " 1  0  0\n",
       " 0  1  0\n",
       " 0  0  1"
      ]
     },
     "execution_count": 2,
     "metadata": {},
     "output_type": "execute_result"
    }
   ],
   "source": [
    "A = [ 0 0 1\n",
    "      0 1 0\n",
    "      1 0 0 ]\n",
    "x = [ 1\n",
    "      2\n",
    "      3 ]"
   ]
  },
  {
   "cell_type": "code",
   "execution_count": 3,
   "metadata": {},
   "outputs": [
    {
     "data": {
      "text/plain": [
       "3-element Vector{Int64}:\n",
       " 3\n",
       " 2\n",
       " 1"
      ]
     },
     "execution_count": 3,
     "metadata": {},
     "output_type": "execute_result"
    }
   ],
   "source": [
    "A * x"
   ]
  },
  {
   "cell_type": "code",
   "execution_count": 4,
   "metadata": {},
   "outputs": [
    {
     "data": {
      "text/plain": [
       "3×3 Matrix{Int64}:\n",
       " 1  0  0\n",
       " 0  1  0\n",
       " 0  0  1"
      ]
     },
     "execution_count": 4,
     "metadata": {},
     "output_type": "execute_result"
    }
   ],
   "source": [
    "A * A"
   ]
  },
  {
   "cell_type": "code",
   "execution_count": null,
   "metadata": {},
   "outputs": [],
   "source": []
  }
 ],
 "metadata": {
  "kernelspec": {
   "display_name": "Julia 1.9.0",
   "language": "julia",
   "name": "julia-1.9"
  },
  "language_info": {
   "file_extension": ".jl",
   "mimetype": "application/julia",
   "name": "julia",
   "version": "1.9.0"
  }
 },
 "nbformat": 4,
 "nbformat_minor": 2
}
