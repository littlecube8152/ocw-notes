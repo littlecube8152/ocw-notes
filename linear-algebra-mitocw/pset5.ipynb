{
 "cells": [
  {
   "attachments": {},
   "cell_type": "markdown",
   "metadata": {},
   "source": [
    "# 18.06 Problem Set 5"
   ]
  },
  {
   "attachments": {},
   "cell_type": "markdown",
   "metadata": {},
   "source": [
    "## Problem 1 [12]\n",
    "### (a)\n",
    "$(V^T)^-1$ is $V$, since $V$ is orthogonal, $V^TV = I$.  "
   ]
  },
  {
   "attachments": {},
   "cell_type": "markdown",
   "metadata": {},
   "source": [
    "### (b)\n",
    "$$B = (A^TA)^{-1}A^T = (V\\Sigma U^TU\\Sigma V^T)^{-1}V\\Sigma U^T = (V\\Sigma^2V^T)^{-1}V\\Sigma U^T = V\\Sigma^{-2}V^{-1}V\\Sigma U^T = V\\Sigma^{-1} U^T$$"
   ]
  },
  {
   "attachments": {},
   "cell_type": "markdown",
   "metadata": {},
   "source": [
    "### (c)\n",
    "If $A$ is a full rank square matrix, then $V, \\Sigma U$ are all invertible matrices.  \n",
    "Therefore\n",
    "$$B = V\\Sigma^{-1}U^T = (V^T)^{-1}\\Sigma^{-1}U^{-1} = A^{-1}$$"
   ]
  },
  {
   "attachments": {},
   "cell_type": "markdown",
   "metadata": {},
   "source": [
    "## Problem 2 [10]\n",
    "If $Av_1, \\ldots, Av_r$ were linearly dependent, that would mean that $c_1 Av_1 + \\cdots + c_rAv_r = 0$ for some coefficients $\\vec{c} \\ne 0$. But that would require $c_1 v_1 + \\cdots + c_r v_r$ to be in the **null** space of $A$, which means that $c_1 v_1 + \\cdots + c_r v_r = \\mathbf 0$ because the **null** space is **orthogonal** to $v_1, \\ldots, v_r \\in C(A^T)$. But it's impossible to have $c_1 v_1 + \\cdots + c_r v_r = \\mathbf 0$ for $\\vec{c} \\ne 0$ because the vectors $v_1, \\ldots, v_r$ are **independent**."
   ]
  },
  {
   "attachments": {},
   "cell_type": "markdown",
   "metadata": {},
   "source": [
    "## Problem 3 [15]\n",
    "### (a)\n",
    "$C(A)$ is a $2$-dimensional space. To find $Pb$, we solve $A^TAx = A^Tb$ first and compute $Ax$.  \n",
    "$$\\begin{align*}\n",
    "A^TAx & = A^Tb \\\\\n",
    "\\begin{bmatrix} 1 & 1 \\\\ 1 & 2 \\end{bmatrix} x & = \\begin{bmatrix} 1 & 0 & 0 \\\\ 1 & 1 & 0 \\end{bmatrix}\\begin{bmatrix} 2 \\\\ 3 \\\\ 4\\end{bmatrix} \\\\\n",
    "\\begin{bmatrix} 1 & 1 \\\\ 1 & 2 \\end{bmatrix} x & = \\begin{bmatrix} 2 \\\\ 5 \\end{bmatrix} \\\\\n",
    "\\begin{bmatrix} 1 & 1 \\\\ 0 & 1 \\end{bmatrix} x & = \\begin{bmatrix} 2 \\\\ 3 \\end{bmatrix} \\\\\n",
    "x & = \\begin{bmatrix} -1 \\\\ 3 \\end{bmatrix} \\\\\n",
    "\\end{align*}$$\n",
    "and\n",
    "$$Ax = \\begin{bmatrix} 1 & 1 \\\\ 0 & 1 \\\\ 0 & 0 \\end{bmatrix}\\begin{bmatrix} -1 \\\\ 3 \\end{bmatrix} = \\begin{bmatrix} 2 \\\\ 3 \\\\ 0 \\end{bmatrix}$$"
   ]
  },
  {
   "attachments": {},
   "cell_type": "markdown",
   "metadata": {},
   "source": [
    "### (b)\n",
    "$C(A)$ is the subspace of $\\mathbb R^3$ consisting of $[x, y, 0]$. Therefore we just remove the thrid component and get $Pb = [2, 3, 0]$.  "
   ]
  },
  {
   "attachments": {},
   "cell_type": "markdown",
   "metadata": {},
   "source": [
    "### (c)"
   ]
  },
  {
   "cell_type": "code",
   "execution_count": 1,
   "metadata": {},
   "outputs": [
    {
     "data": {
      "text/plain": [
       "2-element Vector{Float64}:\n",
       " -1.0\n",
       "  3.0"
      ]
     },
     "execution_count": 1,
     "metadata": {},
     "output_type": "execute_result"
    }
   ],
   "source": [
    "A = [1 1; 0 1; 0 0]\n",
    "b = [2, 3, 4]\n",
    "x = (A'A)\\(A'b)"
   ]
  },
  {
   "attachments": {},
   "cell_type": "markdown",
   "metadata": {},
   "source": [
    "It has the relation ship of $Ax = b$.  "
   ]
  },
  {
   "attachments": {},
   "cell_type": "markdown",
   "metadata": {},
   "source": [
    "### (d)"
   ]
  },
  {
   "cell_type": "code",
   "execution_count": 2,
   "metadata": {},
   "outputs": [
    {
     "data": {
      "text/plain": [
       "2-element Vector{Float64}:\n",
       " -1.0\n",
       "  2.999999999999999"
      ]
     },
     "execution_count": 2,
     "metadata": {},
     "output_type": "execute_result"
    }
   ],
   "source": [
    "A \\ b"
   ]
  },
  {
   "attachments": {},
   "cell_type": "markdown",
   "metadata": {},
   "source": [
    "It is $(A^TA)^{-1}A^Tb$.  "
   ]
  },
  {
   "attachments": {},
   "cell_type": "markdown",
   "metadata": {},
   "source": [
    "### (e)"
   ]
  },
  {
   "cell_type": "code",
   "execution_count": 5,
   "metadata": {},
   "outputs": [
    {
     "data": {
      "text/plain": [
       "3-element Vector{Float64}:\n",
       " 1.9999999999999998\n",
       " 3.0\n",
       " 0.0"
      ]
     },
     "execution_count": 5,
     "metadata": {},
     "output_type": "execute_result"
    }
   ],
   "source": [
    "using LinearAlgebra # for the svd(A) function\n",
    "\n",
    "U,Σ,V = svd(A)\n",
    "U*U'*b"
   ]
  },
  {
   "attachments": {},
   "cell_type": "markdown",
   "metadata": {},
   "source": [
    "It is the same as the answer to (a).  \n",
    "\n",
    "By definition, $U$ is a $m \\times r$ (where $r$ is the rank of $A$) matrix consist of orthonormal basis column vectors.  \n",
    "Therefore, $Pb = A(A^TA)^{-1}A^Tb = U(U^TU)^{-1}U^Tb$ because $C(A) = C(U)$.  \n",
    "Since $U$ is orthogonal, $U^TU = I$, $Pb = UU^Tb$.  "
   ]
  },
  {
   "attachments": {},
   "cell_type": "markdown",
   "metadata": {},
   "source": [
    "## Problem 4 [10]\n",
    "Let $P_{2}$ be the projection matrix of $a_2$.   \n",
    "$$P_2 = \\frac{a_2a_2^T}{a_2^Ta_2} = \\frac{1}{5}\\begin{bmatrix}1 & 2 \\\\ 2 & 4 \\end{bmatrix}$$\n",
    "Similarly, $P_1$ is the projection matrix of $a_1$.   \n",
    "$$P_1 = \\frac{a_1a_1^T}{a_1^Ta_1} = \\begin{bmatrix}1 & 0 \\\\ 0 & 0 \\end{bmatrix}$$\n",
    "$$P_1P_2 = \\frac{1}{5}\\begin{bmatrix}1 & 0 \\\\ 0 & 0 \\end{bmatrix}\\begin{bmatrix}1 & 2 \\\\ 2 & 4 \\end{bmatrix} = \\frac{1}{5}\\begin{bmatrix}1 & 2 \\\\ 0 & 0 \\end{bmatrix}$$\n",
    "\n",
    "We know that the basis of $C(P_1P_2)$ is $\\begin{bmatrix} 1 \\\\ 0 \\end{bmatrix}$,  \n",
    "but the projection matrix of $\\begin{bmatrix} 1 \\\\ 0 \\end{bmatrix}$ should be $P_1 = \\begin{bmatrix}1 & 0 \\\\ 0 & 0 \\end{bmatrix}$.  \n",
    "Therefore $P_1P_2$ is not a projection matrix.  "
   ]
  },
  {
   "attachments": {},
   "cell_type": "markdown",
   "metadata": {},
   "source": [
    "## Problem 5 [10]\n",
    "### (a)\n",
    "$x - y - 2x = 0$ is equivlant to $\\begin{bmatrix}1 & -1 & -2\\end{bmatrix}\\begin{bmatrix} x \\\\ y \\\\ z \\end{bmatrix} = \\mathbf 0$. There are two free columns, thus the basis of the null space can be found and it is\n",
    "$$\\left\\{\\begin{bmatrix} 1 \\\\ 1 \\\\ 0 \\end{bmatrix}, \\begin{bmatrix} 2 \\\\ 0 \\\\ 1 \\end{bmatrix}\\right\\}$$\n",
    "Therefore we want to find $b = \\begin{bmatrix} 0 \\\\ 6 \\\\ 12 \\end{bmatrix}$ projected onto the column space of $A = \\begin{bmatrix} 1 & 2 \\\\ 1 & 0 \\\\ 0 & 1 \\end{bmatrix}$.   \n",
    "First compute\n",
    "$$\\begin{align*}\n",
    "A^TAx & = A^Tb \\\\\n",
    "\\begin{bmatrix} 2 & 2 \\\\ 2 & 5 \\end{bmatrix} x & = \\begin{bmatrix} 1 & 1 & 0 \\\\ 2 & 0 & 1 \\end{bmatrix}\\begin{bmatrix} 0 \\\\ 6 \\\\ 12\\end{bmatrix} \\\\\n",
    "\\begin{bmatrix} 2 & 2 \\\\ 2 & 5 \\end{bmatrix} x & = \\begin{bmatrix} 6 \\\\ 12 \\end{bmatrix} \\\\\n",
    "\\begin{bmatrix} 2 & 2 \\\\ 0 & 3 \\end{bmatrix} x & = \\begin{bmatrix} 6 \\\\ 6 \\end{bmatrix} \\\\\n",
    "x & = \\begin{bmatrix} 1 \\\\ 2 \\end{bmatrix} \\\\\n",
    "\\end{align*}$$\n",
    "Then\n",
    "$$p = Ax = \\begin{bmatrix} 1 & 2 \\\\ 1 & 0 \\\\ 0 & 1 \\end{bmatrix}\\begin{bmatrix} 1 \\\\ 2 \\end{bmatrix} = \\begin{bmatrix} 5 \\\\ 1 \\\\ 2 \\end{bmatrix}$$"
   ]
  },
  {
   "attachments": {},
   "cell_type": "markdown",
   "metadata": {},
   "source": [
    "### (b)\n",
    "Because $C(A)$ is the orthogonal complement of the subspace spanned by the basis $\\{[1, -1, -2]\\}$.  \n",
    "Let $a = [1, -1, -2]$.  \n",
    "We can take $P = I - \\dfrac{aa^T}{a^Ta}$ as the projection matrix of $A$.  \n",
    "$$P = I - \\dfrac{aa^T}{a^Ta} = I - \\frac{1}{6}\\begin{bmatrix}1 & -1 & -2 \\\\ -1 & 1 & 2 \\\\ -2 & 2 & 4\\end{bmatrix} = \\frac{1}{6}\\begin{bmatrix}5 & 1 & 2 \\\\ 1 & 5 & -2 \\\\ 2 & -2 & 2\\end{bmatrix}$$"
   ]
  },
  {
   "attachments": {},
   "cell_type": "markdown",
   "metadata": {},
   "source": [
    "## Problem 6 [10]\n",
    "### (a)\n",
    "Since $C(A)$ has the basis of $\\left\\{\\begin{bmatrix}3 \\\\ 4 \\end{bmatrix}\\right\\}$, the projection matrix $P_C$ is  \n",
    "$$P_C = \\frac{\\begin{bmatrix}3 \\\\ 4 \\end{bmatrix}\\begin{bmatrix}3 \\\\ 4 \\end{bmatrix}^T}{\\begin{bmatrix}3 \\\\ 4 \\end{bmatrix}^T\\begin{bmatrix}3 \\\\ 4 \\end{bmatrix}} = \\frac{1}{25}\\begin{bmatrix}9 & 12 \\\\ 12 & 16 \\end{bmatrix}$$"
   ]
  },
  {
   "attachments": {},
   "cell_type": "markdown",
   "metadata": {},
   "source": [
    "### (b)\n",
    "The row space is $1$-dimensional and one basis is $\\left\\{\\begin{bmatrix} 3 \\\\ 6 \\\\ 6\\end{bmatrix}\\right\\}$. The projection matrix is  \n",
    "$$P_R = \\frac{\\begin{bmatrix} 3 \\\\ 6 \\\\ 6\\end{bmatrix}\\begin{bmatrix} 3 \\\\ 6 \\\\ 6\\end{bmatrix}^T}{\\begin{bmatrix} 3 \\\\ 6 \\\\ 6\\end{bmatrix}^T\\begin{bmatrix} 3 \\\\ 6 \\\\ 6\\end{bmatrix}} = \\frac{1}{81}\\begin{bmatrix} 9 & 18 & 18 \\\\ 18 & 36 & 36 \\\\ 18 & 36 & 36 \\end{bmatrix}$$\n",
    "\n",
    "$$B = \\frac{1}{25}\\begin{bmatrix}9 & 12 \\\\ 12 & 16 \\end{bmatrix}\\begin{bmatrix} 3 & 6 & 6 \\\\ 4 & 8 & 8 \\end{bmatrix}\\frac{1}{81}\\begin{bmatrix} 9 & 18 & 18 \\\\ 18 & 36 & 36 \\\\ 18 & 36 & 36 \\end{bmatrix} = \\begin{bmatrix} 3 & 6 & 6 \\\\ 4 & 8 & 8 \\end{bmatrix}\\frac{1}{81}\\begin{bmatrix} 9 & 18 & 18 \\\\ 18 & 36 & 36 \\\\ 18 & 36 & 36 \\end{bmatrix} = \\begin{bmatrix} 3 & 6 & 6 \\\\ 4 & 8 & 8 \\end{bmatrix} = A$$\n",
    "It is because, when we multiply $P_C$ on the left of $A$, each column is projected onto the column space of $A$, which shouldn't change the column; when we multiply $P_R$ on the right of $A$, each row is projected onto the row space of $A$, which shouldn't change the row as well.  \n",
    "Therefore $B = P_CAP_R = AP_R = A$.  "
   ]
  }
 ],
 "metadata": {
  "kernelspec": {
   "display_name": "Julia 1.9.0",
   "language": "julia",
   "name": "julia-1.9"
  },
  "language_info": {
   "file_extension": ".jl",
   "mimetype": "application/julia",
   "name": "julia",
   "version": "1.9.0"
  },
  "orig_nbformat": 4
 },
 "nbformat": 4,
 "nbformat_minor": 2
}
