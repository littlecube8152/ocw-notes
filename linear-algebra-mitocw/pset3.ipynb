{
 "cells": [
  {
   "attachments": {},
   "cell_type": "markdown",
   "metadata": {},
   "source": [
    "## Problem Set 3"
   ]
  },
  {
   "attachments": {},
   "cell_type": "markdown",
   "metadata": {},
   "source": [
    "## Problem 1"
   ]
  },
  {
   "attachments": {},
   "cell_type": "markdown",
   "metadata": {},
   "source": [
    "### (a)\n",
    "$C(AB) \\subseteq C(A)$ but the reverse is not necessarily true.  \n",
    "1. $C(AB) \\subseteq C(A)$  \n",
    "   For each $b$ in $C(AB)$, there is a $x$ satisfying $ABx = b$. Let $y = Bx$, then $Ay = b$ so $b \\in C(A)$.  \n",
    "2. Counterexample of the reverse  \n",
    "   Let $A = [1], B = [0]$, then $C(A) = \\{[a] | a \\in \\mathbb R\\}, C(AB) = \\{[0]\\}$.  "
   ]
  },
  {
   "attachments": {},
   "cell_type": "markdown",
   "metadata": {},
   "source": [
    "### (b)\n",
    "$A = \\begin{bmatrix} 0 & 1 \\\\ 0 & 0 \\end{bmatrix}$.  \n",
    "Since\n",
    "$$C(A) = \\left\\{\\begin{bmatrix} a \\\\ 0 \\end{bmatrix} | a \\in \\mathbb R\\right\\} \\Rightarrow \\dim C(A) = 1$$\n",
    "but $A^2 = \\begin{bmatrix} 0 & 0 \\\\ 0 & 0 \\end{bmatrix}$, thus\n",
    "$$C(A) = \\left\\{\\begin{bmatrix} 0 \\\\ 0 \\end{bmatrix}\\right\\} \\Rightarrow \\dim C(A^2) = 0$$"
   ]
  },
  {
   "attachments": {},
   "cell_type": "markdown",
   "metadata": {},
   "source": [
    "### (c)\n",
    "Let $f(x) = ax^3 + bx^2 + cx = d$.  \n",
    "For the null space $N(\\frac d {dx})$, it is defined as\n",
    "$$\\{f | \\frac{df}{dx} = 0\\}$$\n",
    "Therefore, $N(\\frac d {dx})$ only contains constant function, which means the basis is $\\{1\\}$.  \n",
    "For the column space $C(\\frac d {dx})$, it is defined as\n",
    "$$\\{f | \\exists F \\in V \\text{ s.t. } \\frac{dF}{dx} = f\\}$$\n",
    "Therefore, $C(\\frac d {dx})$ only contains all polynomial with degree less than $3$, which means the basis is $\\{1, x, x^2\\}$.  "
   ]
  },
  {
   "attachments": {},
   "cell_type": "markdown",
   "metadata": {},
   "source": [
    "## Problem 2"
   ]
  },
  {
   "attachments": {},
   "cell_type": "markdown",
   "metadata": {},
   "source": [
    "$A = \\begin{bmatrix}1 & 1 & 1 \\\\ 1 & 2 & 2 \\\\ 2 & 3 & 3 \\end{bmatrix}, b = \\begin{bmatrix}1 \\\\ 1 \\\\ 2 \\end{bmatrix}$\n",
    "Let's apply elimination to the augmented matrix $[A|b]$.  \n",
    "$$\\left[\n",
    "    \\begin{array}{ccc|c}\n",
    "        1 & 1 & 1 & 1 \\\\\n",
    "        1 & 2 & 2 & 1 \\\\ \n",
    "        2 & 3 & 3 & 2\n",
    "    \\end{array}\n",
    "\\right]\\rightarrow\\left[\n",
    "    \\begin{array}{ccc|c}\n",
    "        1 & 1 & 1 & 1 \\\\\n",
    "        0 & 1 & 1 & 0 \\\\ \n",
    "        0 & 1 & 1 & 0\n",
    "    \\end{array}\n",
    "\\right]\\rightarrow\\left[\n",
    "    \\begin{array}{ccc|c}\n",
    "        1 & 0 & 0 & 1 \\\\\n",
    "        0 & 1 & 1 & 0 \\\\ \n",
    "        0 & 0 & 0 & 0\n",
    "    \\end{array}\n",
    "\\right]$$\n",
    "The free column is the third column, therefore the basis of null space is $\\begin{bmatrix}0 \\\\ -1 \\\\ 1\\end{bmatrix}$.  \n",
    "From back-substitution, we can get a solution $\\begin{bmatrix}1 \\\\ 0 \\\\ 0\\end{bmatrix}$.  \n",
    "Therefore the solution is $\\begin{bmatrix}1 \\\\ -t \\\\ t\\end{bmatrix}$ for $t \\in \\mathbb R$.  "
   ]
  },
  {
   "attachments": {},
   "cell_type": "markdown",
   "metadata": {},
   "source": [
    "## Problem 3"
   ]
  },
  {
   "attachments": {},
   "cell_type": "markdown",
   "metadata": {},
   "source": [
    "### (a)\n",
    "We apply elimination by column instead to get the column space.  \n",
    "$$\\begin{bmatrix} \n",
    "    1 & 2 & 3 & 4 \\\\ \n",
    "    1 & 2 & 4 & 6 \\\\\n",
    "    0 & 0 & 1 & 2 \n",
    "\\end{bmatrix} \\rightarrow \\begin{bmatrix} \n",
    "    1 & 0 & 0 & 0 \\\\ \n",
    "    1 & 0 & 1 & 2 \\\\ \n",
    "    0 & 0 & 1 & 2 \n",
    "\\end{bmatrix} \\rightarrow \\begin{bmatrix} \n",
    "    1 & 0 & 0 & 0 \\\\ \n",
    "    1 & 0 & 1 & 0 \\\\ \n",
    "    0 & 0 & 1 & 0 \n",
    "\\end{bmatrix}$$\n",
    "Therefore the basis of $C(A)$ is $\\begin{bmatrix} \n",
    "    1 \\\\ \n",
    "    1 \\\\ \n",
    "    0 \n",
    "\\end{bmatrix}$ and $\\begin{bmatrix} \n",
    "    0 \\\\ \n",
    "    1 \\\\ \n",
    "    1 \n",
    "\\end{bmatrix}$, which means $\\dim C(A) = 2$."
   ]
  },
  {
   "attachments": {},
   "cell_type": "markdown",
   "metadata": {},
   "source": [
    "### (b)\n",
    "We apply elimination to the augmented matrix $[A|b]$.  \n",
    "$$\\left[\n",
    "    \\begin{array}{cccc|c}\n",
    "        1 & 2 & 3 & 4 & \\alpha \\\\\n",
    "        1 & 2 & 4 & 6 & 6 \\\\ \n",
    "        0 & 0 & 1 & 2 & 1\n",
    "    \\end{array}\n",
    "\\right]\\rightarrow\\left[\n",
    "    \\begin{array}{cccc|c}\n",
    "        1 & 2 & 3 & 4 & \\alpha \\\\\n",
    "        0 & 0 & 1 & 2 & 6 - \\alpha \\\\ \n",
    "        0 & 0 & 1 & 2 & 1\n",
    "    \\end{array}\n",
    "\\right]\\rightarrow\\left[\n",
    "    \\begin{array}{cccc|c}\n",
    "        1 & 2 & 3 & 4 & \\alpha \\\\\n",
    "        0 & 0 & 1 & 2 & 6 - \\alpha \\\\ \n",
    "        0 & 0 & 0 & 0 & 1 - (6 - \\alpha)\n",
    "    \\end{array}\n",
    "\\right]$$\n",
    "Therefore, $1 - (6 - \\alpha) = 0$ must be satisfied, which means $\\alpha = 5$.  "
   ]
  },
  {
   "attachments": {},
   "cell_type": "markdown",
   "metadata": {},
   "source": [
    "### (c)\n",
    "Since $\\alpha = 5$, we substitue back and using back-substitution and the null space (calculated in Problem Set 2) to obtain the full solution.  \n",
    "$$\\left[\n",
    "    \\begin{array}{cccc|c}\n",
    "        1 & 2 & 3 & 4 & 5 \\\\\n",
    "        0 & 0 & 1 & 2 & 1 \\\\ \n",
    "        0 & 0 & 0 & 0 & 0\n",
    "    \\end{array}\n",
    "\\right]\\rightarrow\\left[\n",
    "    \\begin{array}{cccc|c}\n",
    "        1 & 2 & 0 & -2 & 2 \\\\\n",
    "        0 & 0 & 1 & 2 & 1 \\\\ \n",
    "        0 & 0 & 0 & 0 & 0\n",
    "    \\end{array}\n",
    "\\right]$$\n",
    "The pivot columns are the first and the third one. By back-substitution we know one of the solutions is\n",
    "$$x = \\begin{bmatrix}\n",
    "        2 \\\\ 0 \\\\ 1 \\\\ 0\n",
    "    \\end{bmatrix}$$\n",
    "Since the basis of $N(A)$ is\n",
    "$$\\begin{bmatrix}-2 \\\\ 1 \\\\ 0 \\\\ 0\\end{bmatrix}, \\begin{bmatrix}2 \\\\ 0 \\\\ -2 \\\\ 1\\end{bmatrix}$$\n",
    "Therefore the full solution is\n",
    "$$x = \\begin{bmatrix}2 \\\\ 0 \\\\ 1 \\\\ 0\\end{bmatrix} + a\\begin{bmatrix}-2 \\\\ 1 \\\\ 0 \\\\ 0\\end{bmatrix}+ b\\begin{bmatrix}2 \\\\ 0 \\\\ -2 \\\\ 1\\end{bmatrix}\\quad (a, b \\in \\mathbb R)$$"
   ]
  },
  {
   "attachments": {},
   "cell_type": "markdown",
   "metadata": {},
   "source": []
  }
 ],
 "metadata": {
  "language_info": {
   "name": "python"
  },
  "orig_nbformat": 4
 },
 "nbformat": 4,
 "nbformat_minor": 2
}
