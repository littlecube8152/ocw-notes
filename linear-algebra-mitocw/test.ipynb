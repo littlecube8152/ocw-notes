{
 "cells": [
  {
   "attachments": {},
   "cell_type": "markdown",
   "metadata": {},
   "source": [
    "$a$"
   ]
  },
  {
   "cell_type": "code",
   "execution_count": 1,
   "metadata": {},
   "outputs": [
    {
     "data": {
      "text/plain": [
       "3×4 Matrix{Int64}:\n",
       " 1  0  1  1\n",
       " 0  1  1  0\n",
       " 0  0  0  0"
      ]
     },
     "execution_count": 1,
     "metadata": {},
     "output_type": "execute_result"
    }
   ],
   "source": [
    "E = [-1 2 0 ; 1 -1 0 ; -1 0 1]\n",
    "A = [1 2 3 1 ; 1 1 2 1 ; 1 2 3 1]\n",
    "E * A"
   ]
  },
  {
   "cell_type": "code",
   "execution_count": 3,
   "metadata": {},
   "outputs": [
    {
     "data": {
      "text/plain": [
       "3×4 Matrix{Int64}:\n",
       " -1   2   1  -1\n",
       "  1  -1   0   1\n",
       " -1   0  -1  -1"
      ]
     },
     "execution_count": 3,
     "metadata": {},
     "output_type": "execute_result"
    }
   ],
   "source": [
    "E * E * A"
   ]
  },
  {
   "cell_type": "code",
   "execution_count": 9,
   "metadata": {},
   "outputs": [
    {
     "name": "stdout",
     "output_type": "stream",
     "text": [
      "A = [0.6147972823711237 0.5873489182829279 0.5625013164120173 0.28690508079638555 0.8261401901916415; 0.49172391546312877 0.5131518069370289 0.22058671772370575 0.6317738926726639 0.681339555194537; 0.7134449131630213 0.755348143118287 0.34530123832459936 0.11913594683058593 0.3947528962434701; 0.37071764207878244 0.838680413212814 0.07844001435777281 0.4348863352817811 0.09221468229642016; 0.9270865186183967 0.7426118585724305 0.22389001649534257 0.9125674411246247 0.4035801308459924]\n"
     ]
    },
    {
     "data": {
      "text/plain": [
       "5-element Vector{ComplexF64}:\n",
       " -0.2739698633351461 + 0.0im\n",
       " -0.2278678889033757 - 0.17790141977924226im\n",
       " -0.2278678889033757 + 0.17790141977924226im\n",
       "  0.4564660344661784 + 0.0im\n",
       "   2.584956400436244 + 0.0im"
      ]
     },
     "metadata": {},
     "output_type": "display_data"
    }
   ],
   "source": [
    "using LinearAlgebra\n",
    "A = abs.(rand(5, 5))\n",
    "@show A\n",
    "eigvals(A)"
   ]
  },
  {
   "cell_type": "code",
   "execution_count": 22,
   "metadata": {},
   "outputs": [
    {
     "name": "stdout",
     "output_type": "stream",
     "text": [
      "(round(F), round(aF)) = (1.0, 1.0)\n",
      "(round(F), round(aF)) = (1.0, 1.0)\n",
      "(round(F), round(aF)) = (2.0, 2.0)\n",
      "(round(F), round(aF)) = (3.0, 3.0)\n",
      "(round(F), round(aF)) = (5.0, 5.0)\n",
      "(round(F), round(aF)) = (8.0, 8.0)\n",
      "(round(F), round(aF)) = (13.0, 13.0)\n",
      "(round(F), round(aF)) = (21.0, 21.0)\n",
      "(round(F), round(aF)) = (34.0, 34.0)\n",
      "(round(F), round(aF)) = (55.0, 55.0)\n",
      "(round(F), round(aF)) = (89.0, 89.0)\n",
      "(round(F), round(aF)) = (144.0, 144.0)\n",
      "(round(F), round(aF)) = (233.0, 233.0)\n",
      "(round(F), round(aF)) = (377.0, 377.0)\n",
      "(round(F), round(aF)) = (610.0, 610.0)\n",
      "(round(F), round(aF)) = (987.0, 987.0)\n",
      "(round(F), round(aF)) = (1597.0, 1597.0)\n",
      "(round(F), round(aF)) = (2584.0, 2584.0)\n",
      "(round(F), round(aF)) = (4181.0, 4181.0)\n",
      "(round(F), round(aF)) = (6765.0, 6765.0)\n",
      "(round(F), round(aF)) = (10946.0, 10946.0)\n",
      "(round(F), round(aF)) = (17711.0, 17711.0)\n",
      "(round(F), round(aF)) = (28657.0, 28657.0)\n",
      "(round(F), round(aF)) = (46368.0, 46368.0)\n",
      "(round(F), round(aF)) = (75025.0, 75025.0)\n",
      "(round(F), round(aF)) = (121393.0, 121393.0)\n",
      "(round(F), round(aF)) = (196418.0, 196418.0)\n",
      "(round(F), round(aF)) = (317811.0, 317811.0)\n",
      "(round(F), round(aF)) = (514229.0, 514229.0)\n",
      "(round(F), round(aF)) = (832040.0, 832040.0)\n"
     ]
    }
   ],
   "source": [
    "l1 = (1 + sqrt(5)) / 2\n",
    "l2 = (1 - sqrt(5)) / 2\n",
    "for n in 1:30\n",
    "    F = 1 / sqrt(5) * (l1 ^ n - l2 ^ n)\n",
    "    aF = 1 / sqrt(5) * (l1 ^ n)\n",
    "    @show round(F), round(aF)\n",
    "end\n"
   ]
  },
  {
   "cell_type": "code",
   "execution_count": null,
   "metadata": {},
   "outputs": [],
   "source": []
  }
 ],
 "metadata": {
  "kernelspec": {
   "display_name": "Julia 1.9.0",
   "language": "julia",
   "name": "julia-1.9"
  },
  "language_info": {
   "file_extension": ".jl",
   "mimetype": "application/julia",
   "name": "julia",
   "version": "1.9.0"
  }
 },
 "nbformat": 4,
 "nbformat_minor": 2
}
