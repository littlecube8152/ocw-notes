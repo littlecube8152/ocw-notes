{
 "cells": [
  {
   "attachments": {},
   "cell_type": "markdown",
   "metadata": {},
   "source": [
    "# 18.06 Problem Set 9"
   ]
  },
  {
   "attachments": {},
   "cell_type": "markdown",
   "metadata": {},
   "source": [
    "## Problem 1 [5+5+5+5]\n",
    "### (a)"
   ]
  },
  {
   "cell_type": "code",
   "execution_count": 1,
   "metadata": {},
   "outputs": [
    {
     "data": {
      "text/plain": [
       "Eigen{ComplexF64, ComplexF64, Matrix{ComplexF64}, Vector{ComplexF64}}\n",
       "values:\n",
       "5-element Vector{ComplexF64}:\n",
       " 0.10181769041350378 + 0.0im\n",
       "  0.5003800408562611 - 0.04926978942324787im\n",
       "  0.5003800408562611 + 0.04926978942324787im\n",
       "  0.9864222278739748 + 0.0im\n",
       "                 1.0 + 0.0im\n",
       "vectors:\n",
       "5×5 Matrix{ComplexF64}:\n",
       "  -0.515533+0.0im   -0.736042-0.0im        …    0.637631+0.0im  0.0+0.0im\n",
       "   0.805065+0.0im     0.15488-0.265381im        0.103141+0.0im  0.0+0.0im\n",
       "  -0.269991+0.0im    0.228909-0.15202im        0.0175882+0.0im  0.0+0.0im\n",
       "  0.0708807+0.0im    0.386141+0.368314im      0.00482745+0.0im  0.0+0.0im\n",
       " -0.0904219+0.0im  -0.0338875+0.0490864im      -0.763188+0.0im  1.0+0.0im"
      ]
     },
     "metadata": {},
     "output_type": "display_data"
    }
   ],
   "source": [
    "M = [ 0.899  0.5  0.1  0.5  0\n",
    "      0.1    0.3  0.4  0.0  0\n",
    "      0.0    0.1  0.4  0.0  0\n",
    "      0.001  0.0  0.1  0.49 0\n",
    "      0.0    0.1  0.0  0.01 1 ]\n",
    "\n",
    "using LinearAlgebra\n",
    "λ, X = eigen(M);\n",
    "\n",
    "# check something about λ?"
   ]
  },
  {
   "attachments": {},
   "cell_type": "markdown",
   "metadata": {},
   "source": [
    "All $|\\mathrm{Re}(\\lambda)|$ must be less than $1$ or $\\mathrm{Re}(\\lambda)$ equal to $1$,"
   ]
  },
  {
   "attachments": {},
   "cell_type": "markdown",
   "metadata": {},
   "source": [
    "### (b)\n",
    "Let's assume the eigenvectors and eigenvalues of $M$ are $x_i$ and $\\lambda_i$, we can find some \n",
    "$$e_1 = c_1x_1 + c_2x_2 + c_3x_3 + c_4x_4 + c_5x_5$$\n",
    "W.L.O.G let $1 = \\lambda_1 \\geq \\mathrm{Re}(\\lambda_2) \\geq \\mathrm{Re}(\\lambda_3) \\geq \\mathrm{Re}(\\lambda_4) \\geq \\mathrm{Re}(\\lambda_5)$.  \n",
    "Using the property of eigenvectors, \n",
    "$$M^ne_1 = c_1\\lambda_1^nx_1 + c_2\\lambda_2^nx_2 + c_3\\lambda_3^nx_3 + c_4\\lambda_4^nx_4 + c_5\\lambda_5^nx_5$$\n",
    "Therefore, \n",
    "$$(M^n - M^{n-1})e_1 = c_2(\\lambda_2 - 1)\\lambda_2^{n-1}x_2 + c_3(\\lambda_3 - 1)\\lambda_3^{n-1}x_3 + c_4(\\lambda_4 - 1)\\lambda_4^{n-1}x_4 + c_5(\\lambda_5 - 1)\\lambda_5^{n-1}x_5$$\n",
    "When $n$ is sufficiently large, only the ones (except $1$) with largest real part matters, therefore\n",
    "$$(M^n - M^{n-1})e_1 \\approx c\\lambda_2^n = (\\text{some constant})e^{n \\ln \\lambda_2}$$\n",
    "where $c$ is some constant.  "
   ]
  },
  {
   "cell_type": "code",
   "execution_count": 2,
   "metadata": {},
   "outputs": [
    {
     "data": {
      "text/plain": [
       "PyObject Text(0.5, 0, 'number $n$ of steps')"
      ]
     },
     "metadata": {},
     "output_type": "display_data"
    }
   ],
   "source": [
    "using PyPlot\n",
    "e₁ = [1,0,0,0,0]\n",
    "e₅ = [0,0,0,0,1]\n",
    "n = 1:400\n",
    "\n",
    "figure(figsize=(12,3))\n",
    "\n",
    "subplot(1,3,1)\n",
    "plot(n, [e₅'*(M^n - M^(n-1))*e₁ for n in n], \"bo-\")\n",
    "title(L\"probability of reaching state $e_5$ in $n$ steps\")\n",
    "xlabel(L\"number $n$ of steps\")\n",
    "ylabel(\"probability\")\n",
    "\n",
    "subplot(1,3,2)\n",
    "semilogy(n, [e₅'*(M^n - M^(n-1))*e₁ for n in n], \"bo-\")\n",
    "title(\"same plot, semilog scale\")\n",
    "xlabel(L\"number $n$ of steps\")\n",
    "\n",
    "subplot(1,3,3)\n",
    "plot(n, [(0.9864222278739748)^n / (e₅'*(M^n - M^(n-1))*e₁) for n in n], \"bo-\")\n",
    "title(\"same plot, guessing scale\")\n",
    "xlabel(L\"number $n$ of steps\")"
   ]
  },
  {
   "attachments": {},
   "cell_type": "markdown",
   "metadata": {},
   "source": [
    "### (c)\n",
    "Since $M = X\\Lambda X^{-1}$, we know that $M^n = X\\Lambda^nX^{-1}$.  \n",
    "Substituting into the summation gives\n",
    "$$\\sum_{n=1}^\\infty n (X\\Lambda^nX^{-1} - X\\Lambda^{n-1}X^{-1}) = X\\left(\\sum_{n=1}^\\infty n(\\Lambda^n - \\Lambda^{n-1})\\right)X^{-1} = X\\left(\\sum_{n=1}^\\infty n\\Lambda^n - \\sum_{n=1}^\\infty n\\Lambda^{n-1}\\right)X^{-1} = X\\lim_{n\\rightarrow \\infty}\\left(n\\Lambda^n - \\sum_{i = 0}^{n - 1}\\Lambda^i\\right)X^{-1}$$\n",
    "If $\\lambda = 1$, \n",
    "$$\\lim_{n\\rightarrow \\infty}\\left(n\\lambda^n - \\sum_{i = 0}^{n - 1}\\lambda^i\\right) = 0$$\n",
    "Otherwise we have $|\\mathrm{Re}(\\lambda)| < 1$, \n",
    "$$\\sum_{n=1}^\\infty n\\lambda^n - \\sum_{n=1}^\\infty n\\lambda^{n-1} = \\frac{\\lambda}{(1 - \\lambda)^2}\\left(1 - \\frac 1 {\\lambda}\\right) = \\frac{1}{\\lambda - 1}$$\n",
    "Thus\n",
    "$$\\sum_{n=1}^\\infty n (M^n - M^{n-1}) = X\n",
    "\\begin{pmatrix} \n",
    "    \\frac{1}{\\lambda_1 - 1} & & & & \\\\ \n",
    "    & \\frac{1}{\\lambda_2 - 1} & & & \\\\ \n",
    "    & & \\frac{1}{\\lambda_3 - 1} & & \\\\ \n",
    "    & & & \\frac{1}{\\lambda_4 - 1} & \\\\ \n",
    "    & & & & 0 \n",
    "\\end{pmatrix} X^{-1}$$"
   ]
  },
  {
   "attachments": {},
   "cell_type": "markdown",
   "metadata": {},
   "source": [
    "### (d)"
   ]
  },
  {
   "cell_type": "code",
   "execution_count": 3,
   "metadata": {},
   "outputs": [
    {
     "name": "stdout",
     "output_type": "stream",
     "text": [
      "sum([n * e₅' * (M ^ n - M ^ (n - 1)) * e₁ for n = 1:10 ^ 5]) = 75.11223892250649\n"
     ]
    },
    {
     "data": {
      "text/plain": [
       "75.11223892250644 + 7.317063621670172e-15im"
      ]
     },
     "metadata": {},
     "output_type": "display_data"
    }
   ],
   "source": [
    "# average number of steps to reach e₅, summed numerically:\n",
    "@show sum([n * e₅'*(M^n-M^(n-1))*e₁ for n in 1:10^5])\n",
    "\n",
    "function sumofsteps(p)\n",
    "    if p ≈ 1\n",
    "        return 0\n",
    "    end\n",
    "    return 1 / (p - 1)\n",
    "end\n",
    "\n",
    "sum(e₅'* X * Diagonal(sumofsteps.(λ)) * X^-1 * e₁)"
   ]
  },
  {
   "attachments": {},
   "cell_type": "markdown",
   "metadata": {},
   "source": [
    "## Problem 2 [5+5+5]"
   ]
  },
  {
   "attachments": {},
   "cell_type": "markdown",
   "metadata": {},
   "source": [
    "### (a)\n",
    "Since we have \n",
    "$$M x_k = \\lambda_k x_k$$\n",
    "multiply both side by $o^T$ on the left,  \n",
    "$$o^TM x_k = o^Tx_k = \\lambda_k o^Tx_k \\Rightarrow (1 - \\lambda)o^Tx_k = 0$$\n",
    "If $\\lambda \\neq 1$, then $o^Tx_k = 0$ and $o$ is orthogonal to $x_k$.  "
   ]
  },
  {
   "attachments": {},
   "cell_type": "markdown",
   "metadata": {},
   "source": [
    "### (b)"
   ]
  },
  {
   "cell_type": "code",
   "execution_count": 9,
   "metadata": {},
   "outputs": [
    {
     "name": "stdout",
     "output_type": "stream",
     "text": [
      "o' * X = ComplexF64[4.163336342344337e-16 - 0.0im -8.187894806610529e-16 - 4.163336342344337e-17im -8.187894806610529e-16 + 4.163336342344337e-17im 1.1102230246251565e-15 - 0.0im 1.0 - 0.0im]\n"
     ]
    },
    {
     "data": {
      "text/plain": [
       "1×5 adjoint(::Vector{ComplexF64}) with eltype ComplexF64:\n",
       " 4.16334e-16-0.0im  …  1.11022e-15-0.0im  1.0-0.0im"
      ]
     },
     "metadata": {},
     "output_type": "display_data"
    }
   ],
   "source": [
    "o = [1, 1, 1, 1, 1]\n",
    "@show o' * X "
   ]
  },
  {
   "attachments": {},
   "cell_type": "markdown",
   "metadata": {},
   "source": [
    "### (c)\n",
    "$$ x = c_1 x_1 + \\cdots + c_m x_m $$\n",
    "$$ o^Tx = c_m o^Tx_m $$\n",
    "$$ c_m = \\frac{o^Tx}{o^Tx_m}$$"
   ]
  },
  {
   "attachments": {},
   "cell_type": "markdown",
   "metadata": {},
   "source": [
    "## Problem 3 [4+4+4+4+4+4]"
   ]
  },
  {
   "attachments": {},
   "cell_type": "markdown",
   "metadata": {},
   "source": [
    "### (a)\n",
    "Since we have\n",
    "$$\n",
    "\\begin{cases}\n",
    "    g_{k+2} & = (1 - w)g_{k+1} & + wg_k \\\\\n",
    "    g_{k+1} & =        g_{k+1}\n",
    "\\end{cases}$$\n",
    "Therefore\n",
    "$$\\begin{bmatrix} g_{k+2} \\\\ g_{k+1} \\end{bmatrix} = \\underbrace{\\begin{bmatrix} 1 - w & w \\\\ 1 & 0 \\end{bmatrix}}_{A}\\begin{bmatrix} g_{k+1} \\\\ g_k \\end{bmatrix}$$"
   ]
  },
  {
   "attachments": {},
   "cell_type": "markdown",
   "metadata": {},
   "source": [
    "### (b)\n",
    "$$\\det (A - \\lambda I) = (1 - w - \\lambda)(-\\lambda) - w = \\lambda^2 + (w - 1)\\lambda - w = 0 \\Rightarrow \\lambda = \\frac{-w + 1 \\pm \\sqrt{(w - 1)^2 + 4w}}{2} = \\frac{-w + 1 \\pm \\sqrt{(w + 1)^2}}{2} = \\frac{-w + 1 \\pm (w + 1)}{2} = 1, -w$$"
   ]
  },
  {
   "cell_type": "code",
   "execution_count": 1,
   "metadata": {},
   "outputs": [
    {
     "data": {
      "text/plain": [
       "Eigen{Float64, Float64, Matrix{Float64}, Vector{Float64}}\n",
       "values:\n",
       "2-element Vector{Float64}:\n",
       " -0.1\n",
       "  1.0\n",
       "vectors:\n",
       "2×2 Matrix{Float64}:\n",
       " -0.0995037  0.707107\n",
       "  0.995037   0.707107"
      ]
     },
     "metadata": {},
     "output_type": "display_data"
    }
   ],
   "source": [
    "using LinearAlgebra\n",
    "A(w) = [1-w w\n",
    "       1 0]\n",
    "λ, X = eigen(A(0.1))"
   ]
  },
  {
   "attachments": {},
   "cell_type": "markdown",
   "metadata": {},
   "source": [
    "### (c)\n",
    "When $w$ is closer and closer to $-1$, the answer to (b) is still correct.  \n",
    "However, when $w = -1$, $A = \\begin{bmatrix} 2 & -1 \\\\ 1 & 0 \\end{bmatrix}$ and there are only one eigenvalue $\\lambda = 1$ with multiplicity of 2. Take a look at $A - I$,  \n",
    "$$A - I = \\begin{bmatrix} 1 & -1 \\\\ 1 & -1 \\end{bmatrix}$$\n",
    "The null space of that matrix only have dimension of $1$ (since it has a $1$-dimension row space), there is only $1$ eigenvector and $A$ is not diagonalizable under this circumstance.  "
   ]
  },
  {
   "attachments": {},
   "cell_type": "markdown",
   "metadata": {},
   "source": [
    "### (d)\n",
    "It goes to a nonzero constant no matter what $x_0$ is because $|-w| < 1$ and there is another eigenvector with eigenvalue of $1$.  "
   ]
  },
  {
   "attachments": {},
   "cell_type": "markdown",
   "metadata": {},
   "source": [
    "### (e)\n",
    "Let's find the eigenvectors first.  \n",
    "$$A - I = \\begin{bmatrix} - w & w \\\\ 1 & -1 \\end{bmatrix}$$\n",
    "The null space has a basis of $\\begin{bmatrix} 1 \\\\ 1 \\end{bmatrix}$.  \n",
    "$$A + wI = \\begin{bmatrix} 1 & w \\\\ 1 & w \\end{bmatrix}$$\n",
    "The null space has a basis of $\\begin{bmatrix} -w \\\\ 1 \\end{bmatrix}$.  \n",
    "\n",
    "We have $Q = \\begin{bmatrix}1 & -w \\\\ 1 & 1\\end{bmatrix}$ and $\\Lambda = \\begin{bmatrix} 1 \\\\ & -w \\end{bmatrix}$,  \n",
    "Next we compute $Q^{-1}$ using the $2\\times 2$ inversion formula.  \n",
    "$$Q^{-1} = \\frac 1 {\\det Q}\\begin{bmatrix}1 & w \\\\ -1 & 1\\end{bmatrix} = \\frac 1 {1 + w}\\begin{bmatrix}1 & w \\\\ -1 & 1\\end{bmatrix}$$\n",
    "\n",
    "Finally, we can finish the limit:\n",
    "$$\\lim_{n\\rightarrow \\infty} A^n = \\lim_{n\\rightarrow \\infty} Q \\Lambda^n Q^{-1} = \\begin{bmatrix}1 & -w \\\\ 1 & 1\\end{bmatrix}\\begin{bmatrix} 1 \\\\ & 0 \\end{bmatrix}\\frac 1 {1 + w}\\begin{bmatrix}1 & w \\\\ -1 & 1\\end{bmatrix} = \\begin{bmatrix} 1 & 0 \\\\ 1 & 0 \\end{bmatrix}\\frac 1 {1 + w}\\begin{bmatrix}1 & w \\\\ -1 & 1\\end{bmatrix} = \\frac 1 {1 + w}\\begin{bmatrix}1 & w \\\\ 1 & w\\end{bmatrix}$$"
   ]
  },
  {
   "attachments": {},
   "cell_type": "markdown",
   "metadata": {},
   "source": [
    "### (f)\n",
    "We are going to find\n",
    "$$\\lim_{n\\rightarrow \\infty}A^nx_0$$\n",
    "By direct substitution,  \n",
    "$$\\lim_{n\\rightarrow \\infty}A^nx_0 = \\frac 1 {1 + 0.5}\\begin{bmatrix}1 & 0.5 \\\\ 1 & 0.5\\end{bmatrix}\\begin{bmatrix}1 \\\\ 0\\end{bmatrix} = \\begin{bmatrix}\\frac{1}{1.5} \\\\ \\frac{1}{1.5}\\end{bmatrix}$$\n",
    "Therefore\n",
    "$$\\lim_{n\\rightarrow \\infty} g_n = \\frac{1}{1.5} = \\frac 2 3$$"
   ]
  },
  {
   "cell_type": "code",
   "execution_count": 9,
   "metadata": {},
   "outputs": [
    {
     "data": {
      "text/plain": [
       "2-element Vector{Float64}:\n",
       " 0.6666666666666666\n",
       " 0.6666666666666666"
      ]
     },
     "metadata": {},
     "output_type": "display_data"
    }
   ],
   "source": [
    "An(w) = 1 / (1 + w) * [1 w; 1 w]\n",
    "g = [1, 0]\n",
    "w = 0.5\n",
    "An(w) * g"
   ]
  }
 ],
 "metadata": {
  "kernelspec": {
   "display_name": "Julia 1.9.0",
   "language": "julia",
   "name": "julia-1.9"
  },
  "language_info": {
   "file_extension": ".jl",
   "mimetype": "application/julia",
   "name": "julia",
   "version": "1.9.0"
  },
  "orig_nbformat": 4
 },
 "nbformat": 4,
 "nbformat_minor": 2
}
